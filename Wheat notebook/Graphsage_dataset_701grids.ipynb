{
  "nbformat": 4,
  "nbformat_minor": 0,
  "metadata": {
    "colab": {
      "provenance": []
    },
    "kernelspec": {
      "name": "python3",
      "display_name": "Python 3"
    },
    "language_info": {
      "name": "python"
    }
  },
  "cells": [
    {
      "cell_type": "code",
      "source": [
        "import numpy as np\n",
        "import pandas as pd"
      ],
      "metadata": {
        "id": "oUeeusysZkxB"
      },
      "execution_count": null,
      "outputs": []
    },
    {
      "cell_type": "markdown",
      "source": [
        "# Dataset for 7M 701 grids"
      ],
      "metadata": {
        "id": "S2ybaL3qPn-8"
      }
    },
    {
      "cell_type": "markdown",
      "source": [
        "## detrending 2004"
      ],
      "metadata": {
        "id": "aEjm0DB7OpEr"
      }
    },
    {
      "cell_type": "code",
      "source": [
        "import pandas as pd\n",
        "import numpy as np\n",
        "\n",
        "# Load the data\n",
        "df = pd.read_csv('/content/reshaped_dataset_7M_701grids_with year.csv')\n",
        "df.dropna(inplace = True)\n",
        "# Create an empty DataFrame to store the detrended yields and trends\n",
        "detrended_df = pd.DataFrame()\n",
        "\n",
        "# Function to calculate Sen's slope, detrend, and save the trend\n",
        "def detrend_sens_slope(df):\n",
        "    x = np.arange(len(df))  # Time variable (0, 1, 2, ..., 51 for 52 years)\n",
        "    y = df['Yield'].values\n",
        "\n",
        "    # Calculate the Sen's slope\n",
        "    slopes = []\n",
        "    for i in range(len(y)):\n",
        "        for j in range(i + 1, len(y)):\n",
        "            slopes.append((y[j] - y[i]) / (x[j] - x[i]))\n",
        "    slope = np.median(slopes)\n",
        "\n",
        "    # Calculate the trend (slope * time)\n",
        "    df['Trend'] = slope * x\n",
        "\n",
        "    # Detrend the yield data by subtracting the trend from the original yield\n",
        "    df['Detrended_Yield'] = df['Yield'] - df['Trend']\n",
        "\n",
        "    return df\n",
        "\n",
        "# Apply detrending and trend calculation for each district\n",
        "for district in df['District'].unique():\n",
        "    df_district = df[df['District'] == district].copy()\n",
        "    df_district = detrend_sens_slope(df_district)\n",
        "    detrended_df = pd.concat([detrended_df, df_district], ignore_index=True)\n",
        "\n",
        "# Save the updated DataFrame with the detrended yield and trend\n",
        "detrended_df.to_csv('/content/detrended_district_yearly_yield_6s_2004_128g.csv', index=False)\n",
        "\n",
        "# Display the first few rows of the updated DataFrame\n",
        "print(detrended_df.head())\n"
      ],
      "metadata": {
        "colab": {
          "base_uri": "https://localhost:8080/"
        },
        "id": "_ospM5s2JQdI",
        "outputId": "618b4b48-e01e-474c-db0b-4bf627972195"
      },
      "execution_count": null,
      "outputs": [
        {
          "output_type": "stream",
          "name": "stdout",
          "text": [
            "  District  Centroid Longitude  Centroid Latitude       pcp1  pcp2      pcp3  \\\n",
            "0     Agra           78.079498          27.037701   0.000000   0.0  6.811496   \n",
            "1     Agra           78.079498          27.037701  11.770949   0.0  0.000000   \n",
            "2     Agra           78.079498          27.037701   0.000000   0.0  1.004056   \n",
            "3     Agra           78.079498          27.037701   2.544899   0.0  0.000000   \n",
            "4     Agra           78.079498          27.037701   0.250133   0.0  0.000000   \n",
            "\n",
            "        pcp4       pcp5       pcp6       pcp7  ...  heatstress2.9  \\\n",
            "0  15.880300   0.000000   0.000000  11.283052  ...           28.0   \n",
            "1   4.034699   5.378755  15.466345   0.000000  ...           30.0   \n",
            "2   0.000000   0.000000   9.643133   0.000000  ...           28.0   \n",
            "3   1.252567  63.490313  27.840679   0.000000  ...           24.0   \n",
            "4   3.072465   0.000000   0.000000   7.522014  ...           30.0   \n",
            "\n",
            "   heatstress3.9  heatstress4.9  heatstress5.9  heatstress6.9  heatstress7.9  \\\n",
            "0           13.0            5.0           17.0           31.0           30.0   \n",
            "1           19.0            0.0           11.0           31.0           30.0   \n",
            "2            4.0            8.0           28.0           29.0           30.0   \n",
            "3            6.0            7.0           19.0           29.0           30.0   \n",
            "4            4.0            3.0           15.0           31.0           30.0   \n",
            "\n",
            "   Year    Yield       Trend  Detrended_Yield  \n",
            "0  2004  3139.74    0.000000      3139.740000  \n",
            "1  2005  3268.27   60.798889      3207.471111  \n",
            "2  2006  2793.74  121.597778      2672.142222  \n",
            "3  2007  3178.89  182.396667      2996.493333  \n",
            "4  2008  3323.67  243.195556      3080.474444  \n",
            "\n",
            "[5 rows x 1057 columns]\n"
          ]
        }
      ]
    },
    {
      "cell_type": "code",
      "source": [
        "detrended_df.shape"
      ],
      "metadata": {
        "colab": {
          "base_uri": "https://localhost:8080/"
        },
        "id": "2dXt0iQMQRTW",
        "outputId": "b7855910-bc84-4f5a-dcfb-39a856e04694"
      },
      "execution_count": null,
      "outputs": [
        {
          "output_type": "execute_result",
          "data": {
            "text/plain": [
              "(1792, 1057)"
            ]
          },
          "metadata": {},
          "execution_count": 7
        }
      ]
    },
    {
      "cell_type": "markdown",
      "source": [
        "``` drop unneccessary cols```"
      ],
      "metadata": {
        "id": "k93Pv11HSPJ2"
      }
    },
    {
      "cell_type": "markdown",
      "source": [
        "## mapping grids"
      ],
      "metadata": {
        "id": "NX2GT4WpdIPx"
      }
    },
    {
      "cell_type": "code",
      "source": [
        "import pandas as pd\n",
        "import numpy as np\n",
        "\n",
        "file_path = '/content/district_grids_arranged.csv'\n",
        "df3 = pd.read_csv(file_path, header=None)\n",
        "\n",
        "# List of unique column indices to drop\n",
        "cols_to_drop = list(set([185, 230, 251, 374, 505, 706, 738, 57, 377, 26, 29, 33, 351, 352, 375, 376, 421,\n",
        "                         548, 549, 550, 551, 552, 553, 554, 555, 556, 558, 701, 704, 705, 737, 479, 79,\n",
        "                         80, 81, 98, 99, 140, 153, 154, 179, 180, 244, 245, 282, 306, 307, 343, 344, 345,\n",
        "                         589, 590, 743, 744, 745]))\n",
        "\n",
        "# Drop the columns\n",
        "df3.drop(df3.columns[cols_to_drop], axis=1, inplace=True)\n",
        "\n",
        "# Extract the first and second rows for Longitude and Latitude\n",
        "first_row = df3.iloc[1]\n",
        "second_row = df3.iloc[2]\n",
        "\n",
        "# Repeat values 1 times for each unique longitude and latitude\n",
        "lon_repeated = np.repeat(first_row.values, 1).astype(float)\n",
        "lat_repeated = np.repeat(second_row.values, 1).astype(float)\n",
        "\n",
        "# Create a new DataFrame with Lon and Lat as float\n",
        "new_df3 = pd.DataFrame({\n",
        "    'Lon': lon_repeated,\n",
        "    'Lat': lat_repeated,\n",
        "    'District': df3.iloc[0].values\n",
        "})\n",
        "\n",
        "# Save the DataFrame as a CSV file\n",
        "new_df3.to_csv('lon_lat_701grids.csv', index=False)\n",
        "\n",
        "# Display the first few rows to confirm\n",
        "print(new_df3)\n"
      ],
      "metadata": {
        "id": "SWUZxJ1CQuff"
      },
      "execution_count": null,
      "outputs": []
    }
  ]
}