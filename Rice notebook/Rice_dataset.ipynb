{
  "nbformat": 4,
  "nbformat_minor": 0,
  "metadata": {
    "colab": {
      "provenance": [],
      "gpuType": "T4"
    },
    "kernelspec": {
      "name": "python3",
      "display_name": "Python 3"
    },
    "language_info": {
      "name": "python"
    },
    "accelerator": "GPU"
  },
  "cells": [
    {
      "cell_type": "code",
      "execution_count": null,
      "metadata": {
        "colab": {
          "base_uri": "https://localhost:8080/"
        },
        "id": "OHd8NqBdEfO0",
        "outputId": "8b9ce565-32e7-40d6-9b80-38533dbed61e"
      },
      "outputs": [
        {
          "output_type": "stream",
          "name": "stdout",
          "text": [
            "dict_keys(['__header__', '__version__', '__globals__', 'dt'])\n"
          ]
        }
      ],
      "source": [
        "import pandas as pd\n",
        "from scipy.io import loadmat\n",
        "\n",
        "# Load the .mat file\n",
        "data = loadmat('/content/Final_avg_dist_EVI.mat')\n",
        "print(data.keys())\n"
      ]
    },
    {
      "cell_type": "code",
      "source": [
        "# Extract the relevant data under the 'qq' key\n",
        "array_data = data['dt']\n",
        "\n",
        "# Convert the array into a pandas DataFrame\n",
        "df = pd.DataFrame(array_data)\n",
        "\n",
        "# Display the first few rows of the DataFrame\n",
        "print(df.head())\n",
        "# Save the DataFrame as a CSV file\n",
        "csv_file_path = '/content/Final_avg_dist_EVI.csv'  # Specify the desired file path\n",
        "df.to_csv(csv_file_path, index=False)\n",
        "\n",
        "print(f\"Data saved to {csv_file_path}\")"
      ],
      "metadata": {
        "colab": {
          "base_uri": "https://localhost:8080/"
        },
        "id": "6QTW7PazHK8Z",
        "outputId": "48a1fd5a-67eb-4683-85c0-dd34643dbe2a"
      },
      "execution_count": null,
      "outputs": [
        {
          "output_type": "stream",
          "name": "stdout",
          "text": [
            "        0         1         2         3         4         5         6    \\\n",
            "0  0.190010  0.159749  0.258677  0.385757  0.253887  0.342002  0.311166   \n",
            "1  0.177828  0.155077  0.259366  0.184982  0.163000  0.196220  0.174686   \n",
            "2  0.186040  0.153815  0.221069  0.155574  0.168088  0.167901  0.179813   \n",
            "3  0.342382  0.137775  0.114698  0.216335  0.218942  0.199399  0.260781   \n",
            "4  0.367530  0.147617  0.200770  0.309949  0.230461  0.336969  0.283378   \n",
            "\n",
            "        7         8         9    ...       282       283       284       285  \\\n",
            "0  0.469815  0.188723  0.209076  ...  0.300402  0.273037  0.261980  0.236616   \n",
            "1  0.231429  0.168563  0.213357  ...  0.178122  0.219251  0.253516  0.211416   \n",
            "2  0.119832  0.158153  0.260931  ...  0.175552  0.225895  0.256594  0.216004   \n",
            "3  0.205232  0.177019  0.344793  ...  0.261473  0.287585  0.285756  0.191620   \n",
            "4  0.411377  0.215867  0.304153  ...  0.293994  0.301034  0.259412  0.171611   \n",
            "\n",
            "        286       287       288       289       290       291  \n",
            "0  0.254953  0.202378  0.226363  0.337569  0.268549  0.317115  \n",
            "1  0.239853  0.194034  0.187101  0.241386  0.249360  0.212661  \n",
            "2  0.259505  0.234615  0.181709  0.260991  0.293851  0.206108  \n",
            "3  0.366141  0.379054  0.268004  0.299347  0.312650  0.291228  \n",
            "4  0.390574  0.389074  0.324030  0.287921  0.224949  0.387606  \n",
            "\n",
            "[5 rows x 292 columns]\n",
            "Data saved to /content/Final_avg_dist_EVI.csv\n"
          ]
        }
      ]
    },
    {
      "cell_type": "code",
      "source": [
        "print(df.isnull().sum().sum())"
      ],
      "metadata": {
        "colab": {
          "base_uri": "https://localhost:8080/"
        },
        "id": "QdDfaxSaUjR6",
        "outputId": "ece867d1-209e-4380-d5fe-16b09833f014"
      },
      "execution_count": null,
      "outputs": [
        {
          "output_type": "stream",
          "name": "stdout",
          "text": [
            "0\n"
          ]
        }
      ]
    },
    {
      "cell_type": "code",
      "source": [
        "df.shape"
      ],
      "metadata": {
        "colab": {
          "base_uri": "https://localhost:8080/"
        },
        "id": "_vbkYBD9QTc4",
        "outputId": "0e38f549-aa3d-4bda-93d0-1cedb65f77a0"
      },
      "execution_count": null,
      "outputs": [
        {
          "output_type": "execute_result",
          "data": {
            "text/plain": [
              "(275, 292)"
            ]
          },
          "metadata": {},
          "execution_count": 34
        }
      ]
    },
    {
      "cell_type": "code",
      "source": [
        "import pandas as pd\n",
        "from scipy.io import loadmat\n",
        "\n",
        "# Load the .mat file\n",
        "data = loadmat('/content/Final_avg_dist_LST.mat')\n",
        "print(data.keys())\n"
      ],
      "metadata": {
        "colab": {
          "base_uri": "https://localhost:8080/"
        },
        "id": "JkxwoPTOQUuD",
        "outputId": "ad76f560-9f29-4c7b-98a7-f8bd209299e9"
      },
      "execution_count": null,
      "outputs": [
        {
          "output_type": "stream",
          "name": "stdout",
          "text": [
            "dict_keys(['__header__', '__version__', '__globals__', 'dt'])\n"
          ]
        }
      ]
    },
    {
      "cell_type": "code",
      "source": [
        "# Extract the relevant data under the 'qq' key\n",
        "array_data = data['dt']\n",
        "\n",
        "# Convert the array into a pandas DataFrame\n",
        "df = pd.DataFrame(array_data)\n",
        "print(df.isnull().sum().sum())\n",
        "# Display the first few rows of the DataFrame\n",
        "print(df.head())\n",
        "# Save the DataFrame as a CSV file\n",
        "csv_file_path = '/content/Final_avg_dist_LST.csv'  # Specify the desired file path\n",
        "df.to_csv(csv_file_path, index=False)\n",
        "\n",
        "print(f\"Data saved to {csv_file_path}\")"
      ],
      "metadata": {
        "colab": {
          "base_uri": "https://localhost:8080/"
        },
        "id": "E5A6UfnjRz2Z",
        "outputId": "0afa45c3-8ebe-4992-fb34-7f53a0709f9d"
      },
      "execution_count": null,
      "outputs": [
        {
          "output_type": "stream",
          "name": "stdout",
          "text": [
            "967\n",
            "          0           1           2           3           4           5    \\\n",
            "0  305.234629  304.641894  302.060516  294.115811  298.704128  293.242408   \n",
            "1  308.444058  310.778406  304.246690  302.087498  304.797044  301.607460   \n",
            "2  308.024510  307.944432  298.068141  304.582084  306.854961  301.775670   \n",
            "3  301.756577  306.196632  291.180000  301.006448  304.741950  300.823917   \n",
            "4  299.763808  301.810341  285.423922  301.324045  300.472771  300.831800   \n",
            "\n",
            "          6           7           8           9    ...         282  \\\n",
            "0  296.211529  291.238025  307.829279  303.622522  ...  297.078923   \n",
            "1  302.373076  299.661528  308.102678  306.472197  ...  303.469878   \n",
            "2  303.943298  303.484597  307.400571  306.775923  ...  306.083585   \n",
            "3  301.624397  301.256376  302.403205  302.845339  ...  303.766085   \n",
            "4  297.602938  300.549587  304.572181  302.042804  ...  299.727577   \n",
            "\n",
            "          283         284         285         286         287         288  \\\n",
            "0  303.854323  303.394851  305.180003  303.801899  305.151322  305.226858   \n",
            "1  306.744852  305.532030  306.827333  304.055875  305.516581  307.479608   \n",
            "2  307.133818  306.841668  308.571476  306.115485  307.181537  307.836681   \n",
            "3  304.199078  304.823899  307.947243  298.309958  302.077895  303.587456   \n",
            "4  304.711325  305.510086  308.533349  300.301463  301.374563  300.163608   \n",
            "\n",
            "          289         290         291  \n",
            "0  301.325919  301.493961  293.598376  \n",
            "1  303.149646  302.766191  300.990053  \n",
            "2  306.216103  304.003555  301.238782  \n",
            "3  301.921050  301.849135  300.376875  \n",
            "4  301.207911  302.807064  299.587660  \n",
            "\n",
            "[5 rows x 292 columns]\n",
            "Data saved to /content/Final_avg_dist_LST.csv\n"
          ]
        }
      ]
    },
    {
      "cell_type": "code",
      "source": [
        "print(df.isnull().sum().sum())"
      ],
      "metadata": {
        "colab": {
          "base_uri": "https://localhost:8080/"
        },
        "id": "CBmK87-IX-iK",
        "outputId": "aa1125c3-9de0-46e2-be8e-76cf9035c353"
      },
      "execution_count": null,
      "outputs": [
        {
          "output_type": "stream",
          "name": "stdout",
          "text": [
            "967\n"
          ]
        }
      ]
    },
    {
      "cell_type": "code",
      "source": [
        "import pandas as pd\n",
        "from scipy.io import loadmat\n",
        "\n",
        "# Load the .mat file\n",
        "data = loadmat('/content/Final_district_yield.mat')\n",
        "print(data.keys())\n"
      ],
      "metadata": {
        "colab": {
          "base_uri": "https://localhost:8080/"
        },
        "id": "GEhPSYRKTY6K",
        "outputId": "ec416c74-c755-46a4-bc0a-921f562a594c"
      },
      "execution_count": null,
      "outputs": [
        {
          "output_type": "stream",
          "name": "stdout",
          "text": [
            "dict_keys(['__header__', '__version__', '__globals__', 'dt'])\n"
          ]
        }
      ]
    },
    {
      "cell_type": "code",
      "source": [
        "# Extract the relevant data under the 'qq' key\n",
        "array_data = data['dt']\n",
        "\n",
        "# Convert the array into a pandas DataFrame\n",
        "df = pd.DataFrame(array_data)\n",
        "print(df.isnull().sum().sum())\n",
        "# Display the first few rows of the DataFrame\n",
        "print(df.head())\n",
        "# Save the DataFrame as a CSV file\n",
        "csv_file_path = '/content/Final_district_yield.csv'  # Specify the desired file path\n",
        "df.to_csv(csv_file_path, index=False)\n",
        "\n",
        "print(f\"Data saved to {csv_file_path}\")"
      ],
      "metadata": {
        "colab": {
          "base_uri": "https://localhost:8080/"
        },
        "id": "T0Udi2SLTazq",
        "outputId": "866e94f8-46d7-437d-a1b7-e22dfa7c749c"
      },
      "execution_count": null,
      "outputs": [
        {
          "output_type": "stream",
          "name": "stdout",
          "text": [
            "1\n",
            "    0     1     2     3     4     5     6     7     8     9    ...   282  \\\n",
            "0  2.07  0.45  0.69  1.97  1.83  3.02  2.47  3.05  2.95  0.33  ...  2.40   \n",
            "1  2.23  1.76  0.56  1.94  2.00  3.11  2.42  3.00  2.91  1.65  ...  2.50   \n",
            "2  1.54  0.83  0.23  1.76  1.90  2.98  2.14  2.83  2.28  0.39  ...  1.80   \n",
            "3  2.47  2.38  0.78  2.06  2.33  3.10  2.62  2.67  2.56  1.51  ...  2.67   \n",
            "4  1.52  2.23  0.73  2.25  1.79  3.17  2.01  3.10  3.50  0.96  ...  0.58   \n",
            "\n",
            "    283   284   285   286   287   288   289   290   291  \n",
            "0  3.12  3.52  4.00  1.59  1.65  2.85  2.91  2.01  2.95  \n",
            "1  3.89  3.61  3.14  1.68  1.88  2.84  2.59  2.27  2.99  \n",
            "2  3.42  2.99  2.74  0.99  1.23  2.08  3.07  2.31  3.01  \n",
            "3  3.50  3.12  1.82  1.62  2.10  3.07  3.50  1.98  3.03  \n",
            "4  3.07  3.21  2.93  1.69  2.33  2.69  3.45  2.01  3.25  \n",
            "\n",
            "[5 rows x 292 columns]\n",
            "Data saved to /content/Final_district_yield.csv\n"
          ]
        }
      ]
    },
    {
      "cell_type": "code",
      "source": [
        "print(df.isnull().sum().sum())"
      ],
      "metadata": {
        "colab": {
          "base_uri": "https://localhost:8080/"
        },
        "id": "HT0xfodcYByU",
        "outputId": "d2892c77-686d-401d-d486-ff2838cf6b65"
      },
      "execution_count": null,
      "outputs": [
        {
          "output_type": "stream",
          "name": "stdout",
          "text": [
            "1\n"
          ]
        }
      ]
    },
    {
      "cell_type": "markdown",
      "source": [
        "# Gosif"
      ],
      "metadata": {
        "id": "v_hGtlBBZS1x"
      }
    },
    {
      "cell_type": "code",
      "source": [
        "import pandas as pd\n",
        "from scipy.io import loadmat\n",
        "\n",
        "# Load the .mat file\n",
        "data = loadmat('/content/Final_avg_dist_GOSIF.mat')\n",
        "print(data.keys())\n"
      ],
      "metadata": {
        "colab": {
          "base_uri": "https://localhost:8080/"
        },
        "id": "tebgPacAYisz",
        "outputId": "a5453582-f2f5-422d-99aa-d62e0b420499"
      },
      "execution_count": null,
      "outputs": [
        {
          "output_type": "stream",
          "name": "stdout",
          "text": [
            "dict_keys(['__header__', '__version__', '__globals__', 'dt'])\n"
          ]
        }
      ]
    },
    {
      "cell_type": "code",
      "source": [
        "# Extract the relevant data under the 'qq' key\n",
        "array_data = data['dt']\n",
        "\n",
        "# Convert the array into a pandas DataFrame\n",
        "df = pd.DataFrame(array_data)\n",
        "print(df.isnull().sum().sum())\n",
        "# Display the first few rows of the DataFrame\n",
        "print(df.head())\n",
        "# Save the DataFrame as a CSV file\n",
        "csv_file_path = '/content/Final_avg_dist_GOSIF.csv'  # Specify the desired file path\n",
        "df.to_csv(csv_file_path, index=False)\n",
        "\n",
        "print(f\"Data saved to {csv_file_path}\")"
      ],
      "metadata": {
        "colab": {
          "base_uri": "https://localhost:8080/"
        },
        "id": "vTEKg961Yt5W",
        "outputId": "3cfee7f0-1a22-4ad0-977c-ca99fd5da563"
      },
      "execution_count": null,
      "outputs": [
        {
          "output_type": "stream",
          "name": "stdout",
          "text": [
            "0\n",
            "        0         1       2         3         4         5         6    \\\n",
            "0  0.044859  0.024544  0.0543  0.203329  0.080987  0.173200  0.141753   \n",
            "1  0.052469  0.032522  0.0716  0.050969  0.027803  0.050187  0.043406   \n",
            "2  0.058366  0.044893  0.1112  0.030694  0.046500  0.035443  0.057934   \n",
            "3  0.181797  0.040750  0.1450  0.080524  0.090153  0.072365  0.133131   \n",
            "4  0.268772  0.069167  0.2068  0.160724  0.146374  0.175626  0.217453   \n",
            "\n",
            "        7         8         9    ...       282       283       284       285  \\\n",
            "0  0.354902  0.051909  0.062042  ...  0.125605  0.122482  0.133642  0.112129   \n",
            "1  0.108202  0.048632  0.069218  ...  0.046959  0.092418  0.126520  0.105250   \n",
            "2  0.015091  0.052900  0.109300  ...  0.056668  0.079182  0.115041  0.100864   \n",
            "3  0.036891  0.083127  0.216793  ...  0.131614  0.116959  0.138466  0.086821   \n",
            "4  0.206467  0.096077  0.285996  ...  0.223436  0.143259  0.124899  0.066314   \n",
            "\n",
            "        286       287       288       289       290       291  \n",
            "0  0.115395  0.061508  0.076384  0.202976  0.101839  0.144327  \n",
            "1  0.107915  0.057324  0.066034  0.123372  0.110017  0.060653  \n",
            "2  0.117882  0.087682  0.060327  0.121708  0.156979  0.060480  \n",
            "3  0.208021  0.206602  0.140189  0.179496  0.227635  0.126307  \n",
            "4  0.259597  0.272433  0.210002  0.193250  0.246171  0.236007  \n",
            "\n",
            "[5 rows x 292 columns]\n",
            "Data saved to /content/Final_avg_dist_GOSIF.csv\n"
          ]
        }
      ]
    },
    {
      "cell_type": "code",
      "source": [
        "print(df.isnull().sum().sum())"
      ],
      "metadata": {
        "colab": {
          "base_uri": "https://localhost:8080/"
        },
        "id": "uhBXKibcY32_",
        "outputId": "8e681f70-9c1e-4943-f5f4-bd25cae7dac0"
      },
      "execution_count": null,
      "outputs": [
        {
          "output_type": "stream",
          "name": "stdout",
          "text": [
            "0\n"
          ]
        }
      ]
    },
    {
      "cell_type": "markdown",
      "source": [
        "# LAI"
      ],
      "metadata": {
        "id": "1rXgUeloZVLa"
      }
    },
    {
      "cell_type": "code",
      "source": [
        "import pandas as pd\n",
        "from scipy.io import loadmat\n",
        "\n",
        "# Load the .mat file\n",
        "data = loadmat('/content/Final_avg_dist_LAI.mat')\n",
        "print(data.keys())\n"
      ],
      "metadata": {
        "colab": {
          "base_uri": "https://localhost:8080/"
        },
        "outputId": "8395339b-c602-4259-e95a-2921b9a52bdb",
        "id": "cVvdfgCBZYcb"
      },
      "execution_count": null,
      "outputs": [
        {
          "output_type": "stream",
          "name": "stdout",
          "text": [
            "dict_keys(['__header__', '__version__', '__globals__', 'dt'])\n"
          ]
        }
      ]
    },
    {
      "cell_type": "code",
      "source": [
        "# Extract the relevant data under the 'qq' key\n",
        "array_data = data['dt']\n",
        "\n",
        "# Convert the array into a pandas DataFrame\n",
        "df = pd.DataFrame(array_data)\n",
        "print(df.isnull().sum().sum())\n",
        "# Display the first few rows of the DataFrame\n",
        "print(df.head())\n",
        "# Save the DataFrame as a CSV file\n",
        "csv_file_path = '/content/Final_avg_dist_LAI.csv'  # Specify the desired file path\n",
        "df.to_csv(csv_file_path, index=False)\n",
        "\n",
        "print(f\"Data saved to {csv_file_path}\")"
      ],
      "metadata": {
        "colab": {
          "base_uri": "https://localhost:8080/"
        },
        "outputId": "bb1793d4-6a44-4971-e62b-5999c5407249",
        "id": "y9oXYo9rZYcc"
      },
      "execution_count": null,
      "outputs": [
        {
          "output_type": "stream",
          "name": "stdout",
          "text": [
            "0\n",
            "        0         1         2         3         4         5         6    \\\n",
            "0  0.055726  0.034238  0.080419  0.128320  0.058039  0.107949  0.074093   \n",
            "1  0.049496  0.031776  0.079628  0.041878  0.027937  0.044741  0.031693   \n",
            "2  0.052733  0.031764  0.063626  0.028625  0.029918  0.035036  0.031449   \n",
            "3  0.094752  0.025552  0.019986  0.038144  0.038648  0.043442  0.050450   \n",
            "4  0.104618  0.023900  0.012997  0.058548  0.039619  0.069242  0.045726   \n",
            "\n",
            "        7         8         9    ...       282       283       284       285  \\\n",
            "0  0.184802  0.045723  0.083218  ...  0.074546  0.067066  0.071482  0.058670   \n",
            "1  0.058853  0.036580  0.073451  ...  0.032963  0.050373  0.065143  0.048028   \n",
            "2  0.023147  0.030989  0.088361  ...  0.030684  0.050780  0.065749  0.050859   \n",
            "3  0.026842  0.030826  0.104820  ...  0.047976  0.058562  0.060491  0.039312   \n",
            "4  0.095617  0.037782  0.081254  ...  0.057880  0.072437  0.054992  0.034507   \n",
            "\n",
            "        286       287       288       289       290       291  \n",
            "0  0.103574  0.059841  0.061105  0.120662  0.086126  0.109209  \n",
            "1  0.091429  0.051662  0.045016  0.071006  0.066196  0.061829  \n",
            "2  0.106710  0.068403  0.043766  0.078441  0.075151  0.059710  \n",
            "3  0.120999  0.089093  0.055084  0.078145  0.081182  0.081734  \n",
            "4  0.130600  0.095802  0.080045  0.077298  0.058027  0.116804  \n",
            "\n",
            "[5 rows x 292 columns]\n",
            "Data saved to /content/Final_avg_dist_LAI.csv\n"
          ]
        }
      ]
    },
    {
      "cell_type": "code",
      "source": [
        "print(df.isnull().sum().sum())"
      ],
      "metadata": {
        "colab": {
          "base_uri": "https://localhost:8080/"
        },
        "outputId": "54d266e5-7f0f-4bda-ee1d-094125f1e3e4",
        "id": "L07OQ30RZYcc"
      },
      "execution_count": null,
      "outputs": [
        {
          "output_type": "stream",
          "name": "stdout",
          "text": [
            "0\n"
          ]
        }
      ]
    },
    {
      "cell_type": "markdown",
      "source": [
        "# NDVI"
      ],
      "metadata": {
        "id": "MecRmpqLZozE"
      }
    },
    {
      "cell_type": "code",
      "source": [
        "import pandas as pd\n",
        "from scipy.io import loadmat\n",
        "\n",
        "# Load the .mat file\n",
        "data = loadmat('/content/Final_avg_dist_NDVI.mat')\n",
        "print(data.keys())\n"
      ],
      "metadata": {
        "colab": {
          "base_uri": "https://localhost:8080/"
        },
        "outputId": "91abc170-77e7-4390-abf4-4bbd1eb7f5ff",
        "id": "KSa0bUVCZrq7"
      },
      "execution_count": null,
      "outputs": [
        {
          "output_type": "stream",
          "name": "stdout",
          "text": [
            "dict_keys(['__header__', '__version__', '__globals__', 'dt'])\n"
          ]
        }
      ]
    },
    {
      "cell_type": "code",
      "source": [
        "# Extract the relevant data under the 'qq' key\n",
        "array_data = data['dt']\n",
        "\n",
        "# Convert the array into a pandas DataFrame\n",
        "df = pd.DataFrame(array_data)\n",
        "print(df.isnull().sum().sum())\n",
        "# Display the first few rows of the DataFrame\n",
        "print(df.head())\n",
        "# Save the DataFrame as a CSV file\n",
        "csv_file_path = '/content/Final_avg_dist_NDVI.csv'  # Specify the desired file path\n",
        "df.to_csv(csv_file_path, index=False)\n",
        "\n",
        "print(f\"Data saved to {csv_file_path}\")"
      ],
      "metadata": {
        "colab": {
          "base_uri": "https://localhost:8080/"
        },
        "outputId": "44c2c670-a8a6-4cd6-ae30-3018fe79209e",
        "id": "_-Mp7cjqZrq8"
      },
      "execution_count": null,
      "outputs": [
        {
          "output_type": "stream",
          "name": "stdout",
          "text": [
            "0\n",
            "        0         1         2         3         4         5         6    \\\n",
            "0  0.337828  0.253340  0.429583  0.565625  0.387966  0.533698  0.474911   \n",
            "1  0.298853  0.235977  0.415450  0.281913  0.236785  0.321189  0.264540   \n",
            "2  0.315572  0.230337  0.387901  0.215911  0.229919  0.251893  0.254396   \n",
            "3  0.526101  0.209577  0.140707  0.305718  0.325621  0.302049  0.365683   \n",
            "4  0.546165  0.214651  0.237455  0.422921  0.340407  0.477295  0.409483   \n",
            "\n",
            "        7         8         9    ...       282       283       284       285  \\\n",
            "0  0.676126  0.300809  0.378210  ...  0.458479  0.426305  0.435798  0.410434   \n",
            "1  0.355354  0.264141  0.344480  ...  0.265078  0.345934  0.402702  0.354552   \n",
            "2  0.192872  0.235851  0.392646  ...  0.240506  0.344619  0.402944  0.344173   \n",
            "3  0.317004  0.272354  0.491715  ...  0.377369  0.437214  0.435414  0.314423   \n",
            "4  0.595967  0.341532  0.423329  ...  0.416388  0.442654  0.402056  0.278874   \n",
            "\n",
            "        286       287       288       289       290       291  \n",
            "0  0.455052  0.369934  0.385373  0.541218  0.433335  0.512498  \n",
            "1  0.403027  0.319236  0.312690  0.417862  0.379530  0.352466  \n",
            "2  0.430150  0.375112  0.301764  0.416169  0.431950  0.327421  \n",
            "3  0.553958  0.545312  0.443552  0.498051  0.474627  0.445819  \n",
            "4  0.572038  0.548696  0.497586  0.486534  0.331122  0.555859  \n",
            "\n",
            "[5 rows x 292 columns]\n",
            "Data saved to /content/Final_avg_dist_NDVI.csv\n"
          ]
        }
      ]
    },
    {
      "cell_type": "code",
      "source": [
        "print(df.isnull().sum().sum())"
      ],
      "metadata": {
        "colab": {
          "base_uri": "https://localhost:8080/"
        },
        "outputId": "586c8bd0-3c2c-4166-d401-b96557faf4c8",
        "id": "0ZExNw5AZrq8"
      },
      "execution_count": null,
      "outputs": [
        {
          "output_type": "stream",
          "name": "stdout",
          "text": [
            "0\n"
          ]
        }
      ]
    },
    {
      "cell_type": "markdown",
      "source": [
        "# PET"
      ],
      "metadata": {
        "id": "ZsssSmGKZ2Rx"
      }
    },
    {
      "cell_type": "code",
      "source": [
        "import pandas as pd\n",
        "from scipy.io import loadmat\n",
        "\n",
        "# Load the .mat file\n",
        "data = loadmat('/content/Final_avg_dist_PET.mat')\n",
        "print(data.keys())\n"
      ],
      "metadata": {
        "colab": {
          "base_uri": "https://localhost:8080/"
        },
        "outputId": "36fa2719-c64e-455d-9936-a806a423839f",
        "id": "FnV1QUe-Z8Fe"
      },
      "execution_count": null,
      "outputs": [
        {
          "output_type": "stream",
          "name": "stdout",
          "text": [
            "dict_keys(['__header__', '__version__', '__globals__', 'dt'])\n"
          ]
        }
      ]
    },
    {
      "cell_type": "code",
      "source": [
        "# Extract the relevant data under the 'qq' key\n",
        "array_data = data['dt']\n",
        "\n",
        "# Convert the array into a pandas DataFrame\n",
        "df = pd.DataFrame(array_data)\n",
        "print(df.isnull().sum().sum())\n",
        "# Display the first few rows of the DataFrame\n",
        "print(df.head())\n",
        "# Save the DataFrame as a CSV file\n",
        "csv_file_path = '/content/Final_avg_dist_PET.csv'  # Specify the desired file path\n",
        "df.to_csv(csv_file_path, index=False)\n",
        "\n",
        "print(f\"Data saved to {csv_file_path}\")"
      ],
      "metadata": {
        "colab": {
          "base_uri": "https://localhost:8080/"
        },
        "outputId": "e2e63a1b-726a-4137-b459-54129e52cfaa",
        "id": "Wh-9sXEvZ8Ff"
      },
      "execution_count": null,
      "outputs": [
        {
          "output_type": "stream",
          "name": "stdout",
          "text": [
            "0\n",
            "        0         1         2         3         4          5         6    \\\n",
            "0  127.6710  143.0884  144.3590  103.1710  112.7223   81.79056  115.4436   \n",
            "1  189.8964  206.9862  207.1904  168.6825  179.2652  146.48530  182.3027   \n",
            "2  221.1288  241.3100  239.9480  222.2251  230.1174  200.68950  237.1627   \n",
            "3  218.9785  238.7105  231.9556  249.3396  232.6604  217.95920  216.9842   \n",
            "4  148.7771  219.6772  160.3963  190.3038  171.0343  172.16280  160.1382   \n",
            "\n",
            "         7         8         9    ...       282       283       284       285  \\\n",
            "0   75.75395  141.2500  100.9029  ...  112.6398  120.1823  120.9517  126.8198   \n",
            "1  134.99920  199.5977  179.6749  ...  179.4619  179.6095  177.9430  172.4104   \n",
            "2  188.16700  210.3351  204.2198  ...  230.5636  185.6467  185.3152  164.6538   \n",
            "3  222.51180  216.6396  196.7825  ...  220.9906  197.5214  195.1724  177.4134   \n",
            "4  199.46440  169.6841  142.0449  ...  166.2397  170.9720  171.4305  156.4542   \n",
            "\n",
            "        286       287       288       289       290        291  \n",
            "0  103.3582  101.6486  122.7057  119.3941   95.6650   73.89668  \n",
            "1  174.6446  173.5379  190.8680  178.4611  173.2245  138.07460  \n",
            "2  186.2122  194.1581  215.3830  199.3777  205.2655  188.52710  \n",
            "3  186.8043  188.9996  215.5436  206.3906  183.2016  199.36330  \n",
            "4  130.6153  129.6243  140.5976  145.0750  148.5591  152.79990  \n",
            "\n",
            "[5 rows x 292 columns]\n",
            "Data saved to /content/Final_avg_dist_PET.csv\n"
          ]
        }
      ]
    },
    {
      "cell_type": "code",
      "source": [
        "print(df.isnull().sum().sum())"
      ],
      "metadata": {
        "colab": {
          "base_uri": "https://localhost:8080/"
        },
        "outputId": "d1a3e40b-adef-44c6-eec4-cd655be4a533",
        "id": "0DRomqGeZ8Ff"
      },
      "execution_count": null,
      "outputs": [
        {
          "output_type": "stream",
          "name": "stdout",
          "text": [
            "0\n"
          ]
        }
      ]
    },
    {
      "cell_type": "markdown",
      "source": [
        "# RH"
      ],
      "metadata": {
        "id": "oaXGyj1uaGEY"
      }
    },
    {
      "cell_type": "code",
      "source": [
        "import pandas as pd\n",
        "from scipy.io import loadmat\n",
        "\n",
        "# Load the .mat file\n",
        "data = loadmat('/content/Final_avg_dist_RH.mat')\n",
        "print(data.keys())\n"
      ],
      "metadata": {
        "colab": {
          "base_uri": "https://localhost:8080/"
        },
        "outputId": "31a158f6-f376-434a-c7a7-c4d99550d1a2",
        "id": "jczA8cl6aJJ-"
      },
      "execution_count": null,
      "outputs": [
        {
          "output_type": "stream",
          "name": "stdout",
          "text": [
            "dict_keys(['__header__', '__version__', '__globals__', 'dt'])\n"
          ]
        }
      ]
    },
    {
      "cell_type": "code",
      "source": [
        "# Extract the relevant data under the 'qq' key\n",
        "array_data = data['dt']\n",
        "\n",
        "# Convert the array into a pandas DataFrame\n",
        "df = pd.DataFrame(array_data)\n",
        "print(df.isnull().sum().sum())\n",
        "# Display the first few rows of the DataFrame\n",
        "print(df.head())\n",
        "# Save the DataFrame as a CSV file\n",
        "csv_file_path = '/content/Final_avg_dist_RH.csv'  # Specify the desired file path\n",
        "df.to_csv(csv_file_path, index=False)\n",
        "\n",
        "print(f\"Data saved to {csv_file_path}\")"
      ],
      "metadata": {
        "colab": {
          "base_uri": "https://localhost:8080/"
        },
        "outputId": "4fae5901-7d51-45ce-8ea5-5c339b2a6b0f",
        "id": "Tt-ZJSYqaJJ-"
      },
      "execution_count": null,
      "outputs": [
        {
          "output_type": "stream",
          "name": "stdout",
          "text": [
            "0\n",
            "        0         1         2         3         4         5         6    \\\n",
            "0  42.56353  36.80660  34.66814  40.31799  36.76698  46.17048  38.78286   \n",
            "1  37.15853  35.96992  32.38881  36.26395  33.30587  41.07722  34.67102   \n",
            "2  40.25438  39.58646  37.22631  35.33451  35.68382  37.89274  37.26575   \n",
            "3  47.42341  51.54579  43.16134  46.11951  45.81504  46.77381  49.50734   \n",
            "4  58.78749  55.04018  55.45286  55.30497  56.06308  55.27747  60.46749   \n",
            "\n",
            "        7         8         9    ...       282       283       284       285  \\\n",
            "0  42.01849  46.96391  52.93209  ...  38.20522  54.13562  58.65298  58.14482   \n",
            "1  38.64716  42.15209  41.87208  ...  34.18464  46.87418  52.41268  55.40455   \n",
            "2  35.64391  45.36541  45.89459  ...  37.18241  50.40569  55.03846  56.57392   \n",
            "3  42.03464  48.87411  50.15112  ...  47.86689  50.84242  53.65954  55.73683   \n",
            "4  50.09069  58.91111  60.99842  ...  58.18651  57.50331  58.07278  59.54856   \n",
            "\n",
            "        286       287       288       289       290       291  \n",
            "0  57.01508  55.26468  50.37309  57.63903  56.02044  47.56638  \n",
            "1  49.60101  47.47866  42.64732  49.56034  49.81660  42.11572  \n",
            "2  54.26950  52.77128  44.62350  52.47078  53.40489  39.09120  \n",
            "3  54.92605  54.44007  49.79940  52.31462  58.13344  48.17908  \n",
            "4  64.01134  63.38924  61.68755  62.08488  66.09999  56.48550  \n",
            "\n",
            "[5 rows x 292 columns]\n",
            "Data saved to /content/Final_avg_dist_RH.csv\n"
          ]
        }
      ]
    },
    {
      "cell_type": "code",
      "source": [
        "print(df.isnull().sum().sum())"
      ],
      "metadata": {
        "colab": {
          "base_uri": "https://localhost:8080/"
        },
        "outputId": "9685f229-a9a4-4f8f-fccd-d5882519772e",
        "id": "3XZhK_gHaJJ_"
      },
      "execution_count": null,
      "outputs": [
        {
          "output_type": "stream",
          "name": "stdout",
          "text": [
            "0\n"
          ]
        }
      ]
    },
    {
      "cell_type": "markdown",
      "source": [
        "# SMtop"
      ],
      "metadata": {
        "id": "e7P0zeJJaTOB"
      }
    },
    {
      "cell_type": "code",
      "source": [
        "import pandas as pd\n",
        "from scipy.io import loadmat\n",
        "\n",
        "# Load the .mat file\n",
        "data = loadmat('/content/Final_avg_dist_SMtop.mat')\n",
        "print(data.keys())\n"
      ],
      "metadata": {
        "colab": {
          "base_uri": "https://localhost:8080/"
        },
        "outputId": "697220e5-dcd4-4975-867a-a034d448f194",
        "id": "r5032-leaW05"
      },
      "execution_count": null,
      "outputs": [
        {
          "output_type": "stream",
          "name": "stdout",
          "text": [
            "dict_keys(['__header__', '__version__', '__globals__', 'dt'])\n"
          ]
        }
      ]
    },
    {
      "cell_type": "code",
      "source": [
        "# Extract the relevant data under the 'qq' key\n",
        "array_data = data['dt']\n",
        "\n",
        "# Convert the array into a pandas DataFrame\n",
        "df = pd.DataFrame(array_data)\n",
        "print(df.isnull().sum().sum())\n",
        "# Display the first few rows of the DataFrame\n",
        "print(df.head())\n",
        "# Save the DataFrame as a CSV file\n",
        "csv_file_path = '/content/Final_avg_dist_SMtop.csv'  # Specify the desired file path\n",
        "df.to_csv(csv_file_path, index=False)\n",
        "\n",
        "print(f\"Data saved to {csv_file_path}\")"
      ],
      "metadata": {
        "colab": {
          "base_uri": "https://localhost:8080/"
        },
        "outputId": "250dec13-9ca5-4ac8-d642-3a4de47a3c56",
        "id": "rixx4zVmaW06"
      },
      "execution_count": null,
      "outputs": [
        {
          "output_type": "stream",
          "name": "stdout",
          "text": [
            "0\n",
            "        0         1         2         3         4         5         6    \\\n",
            "0  0.001755  0.001052  0.001247  0.001075  0.001179  0.001198  0.001016   \n",
            "1  0.001569  0.001027  0.001187  0.000950  0.001048  0.001004  0.001060   \n",
            "2  0.001799  0.001377  0.001857  0.001379  0.001578  0.001475  0.001622   \n",
            "3  0.003277  0.001671  0.003243  0.002030  0.002450  0.002014  0.002738   \n",
            "4  0.003802  0.003028  0.003717  0.002881  0.003298  0.002805  0.003356   \n",
            "\n",
            "        7         8         9    ...       282       283       284       285  \\\n",
            "0  0.001032  0.001673  0.001141  ...  0.001133  0.001894  0.001727  0.002217   \n",
            "1  0.000928  0.001601  0.001185  ...  0.001067  0.002005  0.001902  0.002615   \n",
            "2  0.001353  0.002065  0.002043  ...  0.001526  0.002392  0.002130  0.002713   \n",
            "3  0.001764  0.003121  0.002887  ...  0.002525  0.002563  0.002270  0.003076   \n",
            "4  0.002495  0.003187  0.003011  ...  0.003305  0.002700  0.002361  0.002720   \n",
            "\n",
            "        286       287       288       289       290       291  \n",
            "0  0.001351  0.001305  0.001553  0.001480  0.001328  0.001146  \n",
            "1  0.001461  0.001466  0.001444  0.001615  0.001700  0.000925  \n",
            "2  0.001946  0.002036  0.001908  0.001898  0.002581  0.001432  \n",
            "3  0.002825  0.002740  0.003222  0.003019  0.003122  0.002039  \n",
            "4  0.003047  0.002972  0.003566  0.003282  0.003105  0.002835  \n",
            "\n",
            "[5 rows x 292 columns]\n",
            "Data saved to /content/Final_avg_dist_SMtop.csv\n"
          ]
        }
      ]
    },
    {
      "cell_type": "code",
      "source": [
        "print(df.isnull().sum().sum())"
      ],
      "metadata": {
        "colab": {
          "base_uri": "https://localhost:8080/"
        },
        "outputId": "0508fc21-00d2-490b-d979-6e95b592fea1",
        "id": "AxdpIkiTaW07"
      },
      "execution_count": null,
      "outputs": [
        {
          "output_type": "stream",
          "name": "stdout",
          "text": [
            "0\n"
          ]
        }
      ]
    },
    {
      "cell_type": "markdown",
      "source": [
        "# VPD"
      ],
      "metadata": {
        "id": "kBnEKEs_ayqM"
      }
    },
    {
      "cell_type": "code",
      "source": [
        "import pandas as pd\n",
        "from scipy.io import loadmat\n",
        "\n",
        "# Load the .mat file\n",
        "data = loadmat('/content/Final_avg_dist_VPD.mat')\n",
        "print(data.keys())\n"
      ],
      "metadata": {
        "colab": {
          "base_uri": "https://localhost:8080/"
        },
        "outputId": "370dbc43-2be1-46a4-efbd-b4dfc3471271",
        "id": "FmDncgg2a04n"
      },
      "execution_count": null,
      "outputs": [
        {
          "output_type": "stream",
          "name": "stdout",
          "text": [
            "dict_keys(['__header__', '__version__', '__globals__', 'dt'])\n"
          ]
        }
      ]
    },
    {
      "cell_type": "code",
      "source": [
        "# Extract the relevant data under the 'qq' key\n",
        "array_data = data['dt']\n",
        "\n",
        "# Convert the array into a pandas DataFrame\n",
        "df = pd.DataFrame(array_data)\n",
        "print(df.isnull().sum().sum())\n",
        "# Display the first few rows of the DataFrame\n",
        "print(df.head())\n",
        "# Save the DataFrame as a CSV file\n",
        "csv_file_path = '/content/Final_avg_dist_VPD.csv'  # Specify the desired file path\n",
        "df.to_csv(csv_file_path, index=False)\n",
        "\n",
        "print(f\"Data saved to {csv_file_path}\")"
      ],
      "metadata": {
        "colab": {
          "base_uri": "https://localhost:8080/"
        },
        "outputId": "fb8d53a9-2992-49b1-ec8a-9c1b7dead543",
        "id": "l7If-Nvfa04n"
      },
      "execution_count": null,
      "outputs": [
        {
          "output_type": "stream",
          "name": "stdout",
          "text": [
            "0\n",
            "        0         1         2         3         4         5         6    \\\n",
            "0  1.886910  1.823568  2.011029  1.182142  1.420106  0.841145  1.337126   \n",
            "1  2.634808  2.458909  2.598526  1.909722  2.213666  1.372794  2.122611   \n",
            "2  3.373602  3.054359  3.054676  3.076665  3.168571  2.356134  2.946235   \n",
            "3  2.859511  2.353681  2.561455  2.938752  2.783787  2.328457  2.458421   \n",
            "4  1.709676  2.200576  1.645542  2.168128  1.966425  1.774637  1.721210   \n",
            "\n",
            "        7         8         9    ...       282       283       284       285  \\\n",
            "0  0.940225  1.860470  1.411478  ...  1.373193  1.625637  1.519760  1.469222   \n",
            "1  1.453103  2.356468  2.313687  ...  2.160596  2.107429  1.930933  1.706494   \n",
            "2  2.588894  2.599585  2.727721  ...  2.982779  2.332511  2.131403  1.783259   \n",
            "3  2.972930  2.284147  2.513591  ...  2.587284  2.378498  2.315926  1.879801   \n",
            "4  2.379207  1.508611  1.621306  ...  1.836415  1.788748  1.903272  1.564331   \n",
            "\n",
            "        286       287       288       289       290       291  \n",
            "0  1.393430  1.410534  1.714045  1.472357  1.188178  0.804177  \n",
            "1  1.935146  2.004522  2.389361  2.010867  1.889867  1.322560  \n",
            "2  2.124644  2.198325  2.926920  2.298711  2.104085  2.227667  \n",
            "3  2.204290  2.202802  2.654692  2.505961  1.878621  2.159564  \n",
            "4  1.456932  1.473097  1.553779  1.607387  1.441675  1.632657  \n",
            "\n",
            "[5 rows x 292 columns]\n",
            "Data saved to /content/Final_avg_dist_VPD.csv\n"
          ]
        }
      ]
    },
    {
      "cell_type": "code",
      "source": [
        "print(df.isnull().sum().sum())"
      ],
      "metadata": {
        "colab": {
          "base_uri": "https://localhost:8080/"
        },
        "outputId": "6cee8f1d-906a-4d9f-8944-e03642a7a65a",
        "id": "IoUnCoEDa04o"
      },
      "execution_count": null,
      "outputs": [
        {
          "output_type": "stream",
          "name": "stdout",
          "text": [
            "0\n"
          ]
        }
      ]
    },
    {
      "cell_type": "markdown",
      "source": [
        "# Rad"
      ],
      "metadata": {
        "id": "eTPy7-lgasz8"
      }
    },
    {
      "cell_type": "code",
      "source": [
        "import pandas as pd\n",
        "from scipy.io import loadmat\n",
        "\n",
        "# Load the .mat file\n",
        "data = loadmat('/content/Final_avg_dist_rad.mat')\n",
        "print(data.keys())\n"
      ],
      "metadata": {
        "colab": {
          "base_uri": "https://localhost:8080/"
        },
        "outputId": "de40644e-cdd4-490b-8d1d-b198b9044b7a",
        "id": "QG1Q6hUTau5S"
      },
      "execution_count": null,
      "outputs": [
        {
          "output_type": "stream",
          "name": "stdout",
          "text": [
            "dict_keys(['__header__', '__version__', '__globals__', 'dt'])\n"
          ]
        }
      ]
    },
    {
      "cell_type": "code",
      "source": [
        "# Extract the relevant data under the 'qq' key\n",
        "array_data = data['dt']\n",
        "\n",
        "# Convert the array into a pandas DataFrame\n",
        "df = pd.DataFrame(array_data)\n",
        "print(df.isnull().sum().sum())\n",
        "# Display the first few rows of the DataFrame\n",
        "print(df.head())\n",
        "# Save the DataFrame as a CSV file\n",
        "csv_file_path = '/content/Final_avg_dist_rad.csv'  # Specify the desired file path\n",
        "df.to_csv(csv_file_path, index=False)\n",
        "\n",
        "print(f\"Data saved to {csv_file_path}\")"
      ],
      "metadata": {
        "colab": {
          "base_uri": "https://localhost:8080/"
        },
        "outputId": "87dea42a-cb1a-4ea6-8fb4-a1e2a0f9bab8",
        "id": "0r8-v_Xpau5S"
      },
      "execution_count": null,
      "outputs": [
        {
          "output_type": "stream",
          "name": "stdout",
          "text": [
            "0\n",
            "        0         1         2         3         4         5         6    \\\n",
            "0  212.8101  240.5211  245.4137  206.1575  219.7411  183.3984  218.8229   \n",
            "1  287.0767  286.6491  297.7751  265.2593  272.6360  252.4482  263.3336   \n",
            "2  295.0516  311.3430  305.5908  302.8203  303.1920  295.9870  299.5625   \n",
            "3  270.5897  291.7555  273.2619  288.6419  286.2210  289.4948  276.1719   \n",
            "4  185.0285  259.8164  179.8233  245.4948  220.2589  248.3984  202.9401   \n",
            "\n",
            "        7         8         9    ...       282       283       284       285  \\\n",
            "0  177.9230  229.5900  178.8941  ...  217.0273  199.0391  205.4496  224.9734   \n",
            "1  246.1550  295.7302  276.0236  ...  270.7457  282.7528  280.6077  279.4507   \n",
            "2  285.8571  291.4323  285.5399  ...  303.2383  281.0642  282.0639  266.2125   \n",
            "3  294.7098  271.5668  269.8281  ...  281.3184  270.1233  273.7230  262.1016   \n",
            "4  280.2812  194.3345  194.5573  ...  216.5332  209.7092  217.0135  214.0688   \n",
            "\n",
            "        286       287       288       289       290       291  \n",
            "0  181.4354  179.0356  188.1124  186.4016  176.2492  182.7422  \n",
            "1  276.6017  273.6851  279.3834  267.9882  271.0132  251.5484  \n",
            "2  275.4713  278.1085  288.5812  277.1578  277.7742  295.9805  \n",
            "3  256.5063  263.7118  270.6385  258.6539  256.0297  281.5938  \n",
            "4  180.5448  187.3351  177.4983  182.2344  203.8906  231.9414  \n",
            "\n",
            "[5 rows x 292 columns]\n",
            "Data saved to /content/Final_avg_dist_rad.csv\n"
          ]
        }
      ]
    },
    {
      "cell_type": "code",
      "source": [
        "print(df.isnull().sum().sum())"
      ],
      "metadata": {
        "colab": {
          "base_uri": "https://localhost:8080/"
        },
        "outputId": "8ae84b0d-0a74-476e-d33b-9c50586d7d7a",
        "id": "qo3J4Fq2au5T"
      },
      "execution_count": null,
      "outputs": [
        {
          "output_type": "stream",
          "name": "stdout",
          "text": [
            "0\n"
          ]
        }
      ]
    },
    {
      "cell_type": "markdown",
      "source": [
        "# rainfall"
      ],
      "metadata": {
        "id": "upM8PCADbGV6"
      }
    },
    {
      "cell_type": "code",
      "source": [
        "import pandas as pd\n",
        "from scipy.io import loadmat\n",
        "\n",
        "# Load the .mat file\n",
        "data = loadmat('/content/Final_avg_dist_rainfall.mat')\n",
        "print(data.keys())\n"
      ],
      "metadata": {
        "colab": {
          "base_uri": "https://localhost:8080/"
        },
        "outputId": "2b8cd993-d054-46f6-dca3-07d2b35559e5",
        "id": "czszoaEHbLmT"
      },
      "execution_count": null,
      "outputs": [
        {
          "output_type": "stream",
          "name": "stdout",
          "text": [
            "dict_keys(['__header__', '__version__', '__globals__', 'dt'])\n"
          ]
        }
      ]
    },
    {
      "cell_type": "code",
      "source": [
        "# Extract the relevant data under the 'qq' key\n",
        "array_data = data['dt']\n",
        "\n",
        "# Convert the array into a pandas DataFrame\n",
        "df = pd.DataFrame(array_data)\n",
        "print(df.isnull().sum().sum())\n",
        "# Display the first few rows of the DataFrame\n",
        "print(df.head())\n",
        "# Save the DataFrame as a CSV file\n",
        "csv_file_path = '/content/Final_avg_dist_rainfall.csv'  # Specify the desired file path\n",
        "df.to_csv(csv_file_path, index=False)\n",
        "\n",
        "print(f\"Data saved to {csv_file_path}\")"
      ],
      "metadata": {
        "colab": {
          "base_uri": "https://localhost:8080/"
        },
        "outputId": "7fb78f41-e7b1-4910-a296-f3100bb1ad91",
        "id": "vpptDd9-bLmU"
      },
      "execution_count": null,
      "outputs": [
        {
          "output_type": "stream",
          "name": "stdout",
          "text": [
            "0\n",
            "          0          1           2          3           4           5    \\\n",
            "0   15.098901   0.000000    0.065307   8.195419    0.409823   53.736175   \n",
            "1    0.494147   0.000000    0.653075   6.894882    0.000000    6.769300   \n",
            "2    3.501905   0.000000    0.000000   2.512056    5.959180    0.772603   \n",
            "3   53.165886  45.547546   25.079688  31.832933   15.140398   53.272695   \n",
            "4  268.273800  51.595190  189.984469  73.488422  100.362696  201.929122   \n",
            "\n",
            "          6          7          8           9    ...         282        283  \\\n",
            "0    9.415959  32.386607  34.321744   30.107710  ...    0.357309  66.137500   \n",
            "1    1.313870   6.460762   0.000000    1.184359  ...    0.074570   0.606440   \n",
            "2    5.189721   0.191639  16.211390   27.804839  ...    8.079198  24.907928   \n",
            "3   56.399233   8.666759  70.695345   89.357317  ...   19.375910  58.205657   \n",
            "4  246.262800  36.709557  85.920933  214.910528  ...  197.103451  69.191176   \n",
            "\n",
            "         284         285         286         287         288         289  \\\n",
            "0  71.152667  136.117987   47.463269   39.302464   37.757629   35.008833   \n",
            "1   7.115810   10.257602    0.955017    0.000000    0.233764    0.000000   \n",
            "2  26.837499   28.149782   30.759313   20.897701   23.570568   10.715301   \n",
            "3  59.485147   63.024777  103.097894  107.149304   40.735912   39.047255   \n",
            "4  54.611550   73.416162  228.074483  175.967545  274.849729  182.892811   \n",
            "\n",
            "          290         291  \n",
            "0   48.931527  100.466275  \n",
            "1    0.123147   13.096339  \n",
            "2   80.725351    4.396058  \n",
            "3  211.864301  108.088922  \n",
            "4  243.457493  247.917690  \n",
            "\n",
            "[5 rows x 292 columns]\n",
            "Data saved to /content/Final_avg_dist_rainfall.csv\n"
          ]
        }
      ]
    },
    {
      "cell_type": "code",
      "source": [
        "print(df.isnull().sum().sum())"
      ],
      "metadata": {
        "colab": {
          "base_uri": "https://localhost:8080/"
        },
        "outputId": "58bbb7bc-e93d-449b-a666-aeccada75f6b",
        "id": "sTwpYxrobLmU"
      },
      "execution_count": null,
      "outputs": [
        {
          "output_type": "stream",
          "name": "stdout",
          "text": [
            "0\n"
          ]
        }
      ]
    },
    {
      "cell_type": "markdown",
      "source": [
        "# tmax"
      ],
      "metadata": {
        "id": "Txw_-p4WbSyo"
      }
    },
    {
      "cell_type": "code",
      "source": [
        "import pandas as pd\n",
        "from scipy.io import loadmat\n",
        "\n",
        "# Load the .mat file\n",
        "data = loadmat('/content/Final_avg_dist_tmax.mat')\n",
        "print(data.keys())\n"
      ],
      "metadata": {
        "colab": {
          "base_uri": "https://localhost:8080/"
        },
        "outputId": "39e284eb-e9a5-445a-8003-e83c09d8a586",
        "id": "ITNRBRn4bYLO"
      },
      "execution_count": null,
      "outputs": [
        {
          "output_type": "stream",
          "name": "stdout",
          "text": [
            "dict_keys(['__header__', '__version__', '__globals__', 'dt'])\n"
          ]
        }
      ]
    },
    {
      "cell_type": "code",
      "source": [
        "# Extract the relevant data under the 'qq' key\n",
        "array_data = data['dt']\n",
        "\n",
        "# Convert the array into a pandas DataFrame\n",
        "df = pd.DataFrame(array_data)\n",
        "print(df.isnull().sum().sum())\n",
        "# Display the first few rows of the DataFrame\n",
        "print(df.head())\n",
        "# Save the DataFrame as a CSV file\n",
        "csv_file_path = '/content/Final_avg_dist_tmax.csv'  # Specify the desired file path\n",
        "df.to_csv(csv_file_path, index=False)\n",
        "\n",
        "print(f\"Data saved to {csv_file_path}\")"
      ],
      "metadata": {
        "colab": {
          "base_uri": "https://localhost:8080/"
        },
        "outputId": "9a407924-f919-40c7-d236-9d10f9d90f98",
        "id": "TOsDFcDRbYLO"
      },
      "execution_count": null,
      "outputs": [
        {
          "output_type": "stream",
          "name": "stdout",
          "text": [
            "0\n",
            "         0          1          2          3          4          5    \\\n",
            "0  31.449093  29.900058  31.304347  23.081893  25.608097  18.562356   \n",
            "1  36.516817  35.080637  35.574539  30.622621  32.816749  25.698421   \n",
            "2  41.640619  39.649726  39.239070  39.096017  39.697974  34.596617   \n",
            "3  39.994680  37.383768  37.039237  40.215542  39.134716  36.046242   \n",
            "4  33.671930  37.108463  31.983621  36.905048  35.352542  33.270842   \n",
            "\n",
            "         6          7          8          9    ...        282        283  \\\n",
            "0  24.894864  19.614970  32.055930  28.631465  ...  25.253949  31.418697   \n",
            "1  32.257407  26.265447  35.321652  34.956514  ...  32.504570  34.275372   \n",
            "2  38.591216  35.950729  37.737276  38.767842  ...  38.806541  36.938700   \n",
            "3  37.677350  39.588702  36.137426  38.238924  ...  38.233981  37.395632   \n",
            "4  34.352887  37.212821  31.452457  33.464074  ...  34.767589  34.064782   \n",
            "\n",
            "         284        285        286        287        288        289  \\\n",
            "0  31.540084  30.784440  29.524652  29.239901  31.386820  30.671606   \n",
            "1  34.008364  32.617633  33.354137  33.501622  35.680543  34.034563   \n",
            "2  36.518977  33.741599  36.236822  36.445910  39.814301  37.192586   \n",
            "3  37.656150  34.439632  37.099899  36.949791  39.172507  38.747298   \n",
            "4  35.377974  32.322837  32.660336  32.619288  32.946435  33.694710   \n",
            "\n",
            "         290        291  \n",
            "0  26.509019  18.116120  \n",
            "1  32.986434  25.250655  \n",
            "2  35.815628  33.787884  \n",
            "3  35.149907  34.996017  \n",
            "4  33.310635  32.140720  \n",
            "\n",
            "[5 rows x 292 columns]\n",
            "Data saved to /content/Final_avg_dist_tmax.csv\n"
          ]
        }
      ]
    },
    {
      "cell_type": "code",
      "source": [
        "print(df.isnull().sum().sum())"
      ],
      "metadata": {
        "colab": {
          "base_uri": "https://localhost:8080/"
        },
        "outputId": "4cf6b9cf-25f6-4479-cd14-186860e70d7b",
        "id": "sr2qBPDebYLP"
      },
      "execution_count": null,
      "outputs": [
        {
          "output_type": "stream",
          "name": "stdout",
          "text": [
            "0\n"
          ]
        }
      ]
    },
    {
      "cell_type": "markdown",
      "source": [
        "# tmin"
      ],
      "metadata": {
        "id": "4ylXHI8XbghX"
      }
    },
    {
      "cell_type": "code",
      "source": [
        "import pandas as pd\n",
        "from scipy.io import loadmat\n",
        "\n",
        "# Load the .mat file\n",
        "data = loadmat('/content/Final_avg_dist_tmin.mat')\n",
        "print(data.keys())\n"
      ],
      "metadata": {
        "colab": {
          "base_uri": "https://localhost:8080/"
        },
        "outputId": "2542e60f-0347-4274-f667-c9ce5b7bf526",
        "id": "HEzzoQnZbkhh"
      },
      "execution_count": null,
      "outputs": [
        {
          "output_type": "stream",
          "name": "stdout",
          "text": [
            "dict_keys(['__header__', '__version__', '__globals__', 'dt'])\n"
          ]
        }
      ]
    },
    {
      "cell_type": "code",
      "source": [
        "# Extract the relevant data under the 'qq' key\n",
        "array_data = data['dt']\n",
        "\n",
        "# Convert the array into a pandas DataFrame\n",
        "df = pd.DataFrame(array_data)\n",
        "print(df.isnull().sum().sum())\n",
        "# Display the first few rows of the DataFrame\n",
        "print(df.head())\n",
        "# Save the DataFrame as a CSV file\n",
        "csv_file_path = '/content/Final_avg_dist_tmin.csv'  # Specify the desired file path\n",
        "df.to_csv(csv_file_path, index=False)\n",
        "\n",
        "print(f\"Data saved to {csv_file_path}\")"
      ],
      "metadata": {
        "colab": {
          "base_uri": "https://localhost:8080/"
        },
        "outputId": "a79e5f08-b57d-4ddf-c170-e0a78f384f43",
        "id": "j92eTzCebkhi"
      },
      "execution_count": null,
      "outputs": [
        {
          "output_type": "stream",
          "name": "stdout",
          "text": [
            "0\n",
            "         0          1          2          3          4          5    \\\n",
            "0  17.195603  13.552433  13.866916   8.864845   9.744788   6.771092   \n",
            "1  19.543927  17.759334  16.530371  13.967278  14.576354  11.490013   \n",
            "2  25.402650  23.350279  21.963268  21.003621  21.691203  18.166715   \n",
            "3  26.696716  25.714973  22.436458  26.425016  25.333027  22.880954   \n",
            "4  24.489809  26.571706  21.942484  26.470733  25.259982  23.093806   \n",
            "\n",
            "         6          7          8          9    ...        282        283  \\\n",
            "0   9.908592   6.354683  19.312402  18.093832  ...  10.003885  21.025733   \n",
            "1  14.710510  11.075711  20.522868  20.086183  ...  14.707626  21.295970   \n",
            "2  21.427584  18.384809  23.903033  25.025973  ...  21.580527  24.932678   \n",
            "3  25.313279  24.300999  23.688745  26.041031  ...  25.253709  25.502834   \n",
            "4  25.601223  25.085063  22.447144  24.912906  ...  25.341469  24.488743   \n",
            "\n",
            "         284        285        286        287        288        289  \\\n",
            "0  22.453200  21.608691  20.113924  19.346185  19.832971  21.361775   \n",
            "1  22.887717  22.525807  21.386346  20.804151  21.032737  21.997968   \n",
            "2  26.026130  23.915996  25.529876  25.249153  25.501362  25.844781   \n",
            "3  26.652409  24.316088  26.534034  26.244478  26.779254  27.227397   \n",
            "4  25.878656  23.441412  24.964399  24.761592  24.615584  25.427373   \n",
            "\n",
            "         290        291  \n",
            "0  17.021043   6.797586  \n",
            "1  21.113657  11.465745  \n",
            "2  24.859567  17.945031  \n",
            "3  25.672556  22.413206  \n",
            "4  26.116779  22.400292  \n",
            "\n",
            "[5 rows x 292 columns]\n",
            "Data saved to /content/Final_avg_dist_tmin.csv\n"
          ]
        }
      ]
    },
    {
      "cell_type": "code",
      "source": [
        "print(df.isnull().sum().sum())"
      ],
      "metadata": {
        "colab": {
          "base_uri": "https://localhost:8080/"
        },
        "outputId": "a16d2834-5468-4840-f2d3-c3b14442b5cc",
        "id": "cbkU4vIrbkhi"
      },
      "execution_count": null,
      "outputs": [
        {
          "output_type": "stream",
          "name": "stdout",
          "text": [
            "0\n"
          ]
        }
      ]
    },
    {
      "cell_type": "markdown",
      "source": [
        "# WS"
      ],
      "metadata": {
        "id": "A1asyzY1bs48"
      }
    },
    {
      "cell_type": "code",
      "source": [
        "import pandas as pd\n",
        "from scipy.io import loadmat\n",
        "\n",
        "# Load the .mat file\n",
        "data = loadmat('/content/Final_avg_dist_ws.mat')\n",
        "print(data.keys())\n"
      ],
      "metadata": {
        "colab": {
          "base_uri": "https://localhost:8080/"
        },
        "outputId": "a43b3abf-3422-46d3-faba-908a25c86052",
        "id": "dnWx_mXjbwNe"
      },
      "execution_count": null,
      "outputs": [
        {
          "output_type": "stream",
          "name": "stdout",
          "text": [
            "dict_keys(['__header__', '__version__', '__globals__', 'dt'])\n"
          ]
        }
      ]
    },
    {
      "cell_type": "code",
      "source": [
        "# Extract the relevant data under the 'qq' key\n",
        "array_data = data['dt']\n",
        "\n",
        "# Convert the array into a pandas DataFrame\n",
        "df = pd.DataFrame(array_data)\n",
        "print(df.isnull().sum().sum())\n",
        "# Display the first few rows of the DataFrame\n",
        "print(df.head())\n",
        "# Save the DataFrame as a CSV file\n",
        "csv_file_path = '/content/Final_avg_dist_ws.csv'  # Specify the desired file path\n",
        "df.to_csv(csv_file_path, index=False)\n",
        "\n",
        "print(f\"Data saved to {csv_file_path}\")"
      ],
      "metadata": {
        "colab": {
          "base_uri": "https://localhost:8080/"
        },
        "outputId": "2043952b-beb3-43c5-e868-ba1732cd9b6d",
        "id": "EUQ10IMwbwNe"
      },
      "execution_count": null,
      "outputs": [
        {
          "output_type": "stream",
          "name": "stdout",
          "text": [
            "0\n",
            "        0         1         2         3         4         5         6    \\\n",
            "0  1.617620  2.169111  1.893473  1.989732  1.788640  1.959906  2.102582   \n",
            "1  1.569009  2.276361  2.066776  1.997925  1.878918  2.214373  2.157278   \n",
            "2  1.801747  2.465014  2.560723  2.055637  2.171322  2.154731  2.600410   \n",
            "3  2.063250  3.083917  2.901904  2.722238  2.361323  2.356297  2.280576   \n",
            "4  2.211480  3.387131  3.104844  2.259251  2.158636  2.005126  2.338197   \n",
            "\n",
            "        7         8         9    ...       282       283       284       285  \\\n",
            "0  1.459585  1.858127  1.360271  ...  1.876623  1.481582  1.527299  1.491426   \n",
            "1  1.679826  1.901590  1.596924  ...  1.948621  1.517876  1.537212  1.545429   \n",
            "2  1.663888  2.102682  1.812366  ...  2.325011  1.514436  1.608650  1.417079   \n",
            "3  1.809698  2.723374  1.590694  ...  2.218186  1.813229  1.692101  1.725116   \n",
            "4  1.841216  3.889787  1.760759  ...  2.186666  2.844866  2.470023  2.447152   \n",
            "\n",
            "        286       287       288       289       290       291  \n",
            "0  1.331108  1.300559  1.779716  1.930195  1.499151  1.545788  \n",
            "1  1.647575  1.628819  1.779996  1.774462  1.800017  1.934378  \n",
            "2  1.825059  2.080674  1.971740  2.088674  2.684505  1.875893  \n",
            "3  1.730363  1.689260  2.118504  2.096480  1.913783  1.962356  \n",
            "4  1.792105  1.501987  2.209846  2.228345  2.191577  1.575029  \n",
            "\n",
            "[5 rows x 292 columns]\n",
            "Data saved to /content/Final_avg_dist_ws.csv\n"
          ]
        }
      ]
    },
    {
      "cell_type": "code",
      "source": [
        "print(df.isnull().sum().sum())"
      ],
      "metadata": {
        "colab": {
          "base_uri": "https://localhost:8080/"
        },
        "outputId": "a641fa7e-f434-435f-f081-5eab576d56b4",
        "id": "RwKWe1KdbwNf"
      },
      "execution_count": null,
      "outputs": [
        {
          "output_type": "stream",
          "name": "stdout",
          "text": [
            "0\n"
          ]
        }
      ]
    },
    {
      "cell_type": "markdown",
      "source": [],
      "metadata": {
        "id": "_P9DZR1w-Dbf"
      }
    },
    {
      "cell_type": "code",
      "source": [
        "# prompt: read /content/district_centroid_file.csv and from the column district take the districts name and put it in new df where every district is col name\n",
        "\n",
        "import pandas as pd\n",
        "\n",
        "# Load the district centroid file\n",
        "district_centroids = pd.read_csv('/content/district_centroid_file.csv')\n",
        "\n",
        "# Extract district names\n",
        "districts = district_centroids['district'].tolist()\n",
        "\n",
        "# Create a new DataFrame with districts as column names\n",
        "new_df = pd.DataFrame(columns=districts)\n",
        "\n",
        "new_df.to_csv('districts_cols.csv')\n"
      ],
      "metadata": {
        "id": "t9W6tesk-Diw"
      },
      "execution_count": null,
      "outputs": []
    },
    {
      "cell_type": "code",
      "source": [
        "# prompt: keep only those State - districts pair in /content/final_district_monthly_sowingmonth.csv col \"District\", \"State\" which are present in /content/district_centroid_file.csv\n",
        "\n",
        "import pandas as pd\n",
        "\n",
        "# Load the two CSV files\n",
        "final_district_df = pd.read_csv('/content/final_district_monthly_sowingmonth.csv')\n",
        "district_centroid_df = pd.read_csv('/content/district_centroid_file.csv')\n",
        "\n",
        "# Create a set of valid district-state pairs from the district centroid file\n",
        "valid_pairs = set(zip(district_centroid_df['district'], district_centroid_df['State']))\n",
        "\n",
        "# Filter the final district DataFrame to keep only valid pairs\n",
        "filtered_df = final_district_df[final_district_df.apply(lambda row: (row['District'], row['State']) in valid_pairs, axis=1)]\n",
        "\n",
        "# Save the filtered DataFrame to a new CSV file\n",
        "filtered_df.to_csv('/content/filtered_district_data.csv', index=False)\n"
      ],
      "metadata": {
        "id": "8pG5IMKXBIMB"
      },
      "execution_count": null,
      "outputs": []
    },
    {
      "cell_type": "code",
      "source": [
        "filtered_df['SowingMonth'].value_counts()\n"
      ],
      "metadata": {
        "colab": {
          "base_uri": "https://localhost:8080/",
          "height": 303
        },
        "id": "WkxW8pxzDUz0",
        "outputId": "b59d4bf3-1c6c-481c-ad81-e323acd0e334"
      },
      "execution_count": null,
      "outputs": [
        {
          "output_type": "execute_result",
          "data": {
            "text/plain": [
              "SowingMonth\n",
              "june-july    100\n",
              "may-jun       67\n",
              "jun-july      58\n",
              "april-may     26\n",
              "mar-april     24\n",
              "may-july      17\n",
              "Name: count, dtype: int64"
            ],
            "text/html": [
              "<div>\n",
              "<style scoped>\n",
              "    .dataframe tbody tr th:only-of-type {\n",
              "        vertical-align: middle;\n",
              "    }\n",
              "\n",
              "    .dataframe tbody tr th {\n",
              "        vertical-align: top;\n",
              "    }\n",
              "\n",
              "    .dataframe thead th {\n",
              "        text-align: right;\n",
              "    }\n",
              "</style>\n",
              "<table border=\"1\" class=\"dataframe\">\n",
              "  <thead>\n",
              "    <tr style=\"text-align: right;\">\n",
              "      <th></th>\n",
              "      <th>count</th>\n",
              "    </tr>\n",
              "    <tr>\n",
              "      <th>SowingMonth</th>\n",
              "      <th></th>\n",
              "    </tr>\n",
              "  </thead>\n",
              "  <tbody>\n",
              "    <tr>\n",
              "      <th>june-july</th>\n",
              "      <td>100</td>\n",
              "    </tr>\n",
              "    <tr>\n",
              "      <th>may-jun</th>\n",
              "      <td>67</td>\n",
              "    </tr>\n",
              "    <tr>\n",
              "      <th>jun-july</th>\n",
              "      <td>58</td>\n",
              "    </tr>\n",
              "    <tr>\n",
              "      <th>april-may</th>\n",
              "      <td>26</td>\n",
              "    </tr>\n",
              "    <tr>\n",
              "      <th>mar-april</th>\n",
              "      <td>24</td>\n",
              "    </tr>\n",
              "    <tr>\n",
              "      <th>may-july</th>\n",
              "      <td>17</td>\n",
              "    </tr>\n",
              "  </tbody>\n",
              "</table>\n",
              "</div><br><label><b>dtype:</b> int64</label>"
            ]
          },
          "metadata": {},
          "execution_count": 9
        }
      ]
    },
    {
      "cell_type": "markdown",
      "source": [
        "```\n",
        "Adding year and month col\n",
        "\n",
        "```"
      ],
      "metadata": {
        "id": "TruBzbxeHaRf"
      }
    },
    {
      "cell_type": "code",
      "source": [
        "# prompt: i have /content/Final_district_yield.csv which has 293 cols of which first 292 are districts yield info. and 23 rows for 23 years of data , now i want you to take Year 2000 then write it 292 times in a row and add the corresponding yield of that year of all districts, next 292 rows write 2001 and fill it with the correcponding year yield values\n",
        "\n",
        "import pandas as pd\n",
        "\n",
        "# Load the CSV file\n",
        "df = pd.read_csv('/content/Final_district_yield.csv')\n",
        "\n",
        "# Create empty lists to store the year and corresponding yield values\n",
        "years = []\n",
        "yields = []\n",
        "\n",
        "# Iterate through the rows of the DataFrame\n",
        "for i in range(23):  # Assuming 23 years of data\n",
        "  year = 2000 + i\n",
        "  for _ in range(292): # Repeat the year 292 times\n",
        "    years.append(year)\n",
        "  yields.extend(df.iloc[i, :292].tolist()) # Append the corresponding yield values for that year\n",
        "\n",
        "\n",
        "# Create a new DataFrame from the collected data\n",
        "new_df = pd.DataFrame({'Year': years, 'Yield': yields})\n",
        "\n",
        "# Save the new DataFrame to a new CSV file\n",
        "new_df.to_csv('/content/rice_district_yield.csv', index=False)\n",
        "\n",
        "print(\"Data reshaped and saved to modified_district_yield.csv\")\n"
      ],
      "metadata": {
        "colab": {
          "base_uri": "https://localhost:8080/"
        },
        "id": "gOz3qmzyGtxC",
        "outputId": "cdfbb9c1-da4d-4313-9364-c22b8aad2ff4"
      },
      "execution_count": null,
      "outputs": [
        {
          "output_type": "stream",
          "name": "stdout",
          "text": [
            "Data reshaped and saved to modified_district_yield.csv\n"
          ]
        }
      ]
    },
    {
      "cell_type": "code",
      "source": [
        "# prompt: new_df.to_csv('/content/rice_district_yield.csv', index=False) add the District cols where district names can be taken from # Extract district names\n",
        "# districts = district_centroids['district'].tolist()  which are the repeated 23 times\n",
        "\n",
        "import pandas as pd\n",
        "\n",
        "# Load the district centroid file\n",
        "district_centroids = pd.read_csv('/content/district_centroid_file.csv')\n",
        "\n",
        "# Extract district names\n",
        "districts = district_centroids['district'].tolist()\n",
        "\n",
        "# Load the rice district yield data\n",
        "new_df = pd.read_csv('/content/rice_district_yield.csv')\n",
        "\n",
        "# Repeat the district names 23 times to match the number of years\n",
        "repeated_districts = districts * 23\n",
        "\n",
        "# Check if the lengths of repeated_districts and the 'Yield' column are the same\n",
        "if len(repeated_districts) == len(new_df):\n",
        "  # Add the 'District' column to the DataFrame\n",
        "  new_df['District'] = repeated_districts\n",
        "else:\n",
        "  print(\"Error: The number of districts does not match the number of yield values.\")\n",
        "\n",
        "# Save the updated DataFrame to the same CSV file, overwriting the previous data.\n",
        "new_df.to_csv('/content/rice_district_yield.csv', index=False)\n",
        "new_df"
      ],
      "metadata": {
        "colab": {
          "base_uri": "https://localhost:8080/",
          "height": 423
        },
        "id": "yzEAKwvdLkIB",
        "outputId": "b4dc2352-406b-4de1-cc03-cd32e3372c24"
      },
      "execution_count": null,
      "outputs": [
        {
          "output_type": "execute_result",
          "data": {
            "text/plain": [
              "      Year  Yield        District\n",
              "0     2000   2.07        Adilabad\n",
              "1     2000   0.45       Ahmadabad\n",
              "2     2000   0.69      Ahmednagar\n",
              "3     2000   1.97         Aligarh\n",
              "4     2000   1.83       Allahabad\n",
              "...    ...    ...             ...\n",
              "6711  2022   3.62    Vizianagaram\n",
              "6712  2022   3.28        Warangal\n",
              "6713  2022   3.33   West Godavari\n",
              "6714  2022   2.68  West Midnapore\n",
              "6715  2022   3.41    Yamuna Nagar\n",
              "\n",
              "[6716 rows x 3 columns]"
            ],
            "text/html": [
              "\n",
              "  <div id=\"df-5907a633-ca2d-494e-ae07-59f1d76d2c40\" class=\"colab-df-container\">\n",
              "    <div>\n",
              "<style scoped>\n",
              "    .dataframe tbody tr th:only-of-type {\n",
              "        vertical-align: middle;\n",
              "    }\n",
              "\n",
              "    .dataframe tbody tr th {\n",
              "        vertical-align: top;\n",
              "    }\n",
              "\n",
              "    .dataframe thead th {\n",
              "        text-align: right;\n",
              "    }\n",
              "</style>\n",
              "<table border=\"1\" class=\"dataframe\">\n",
              "  <thead>\n",
              "    <tr style=\"text-align: right;\">\n",
              "      <th></th>\n",
              "      <th>Year</th>\n",
              "      <th>Yield</th>\n",
              "      <th>District</th>\n",
              "    </tr>\n",
              "  </thead>\n",
              "  <tbody>\n",
              "    <tr>\n",
              "      <th>0</th>\n",
              "      <td>2000</td>\n",
              "      <td>2.07</td>\n",
              "      <td>Adilabad</td>\n",
              "    </tr>\n",
              "    <tr>\n",
              "      <th>1</th>\n",
              "      <td>2000</td>\n",
              "      <td>0.45</td>\n",
              "      <td>Ahmadabad</td>\n",
              "    </tr>\n",
              "    <tr>\n",
              "      <th>2</th>\n",
              "      <td>2000</td>\n",
              "      <td>0.69</td>\n",
              "      <td>Ahmednagar</td>\n",
              "    </tr>\n",
              "    <tr>\n",
              "      <th>3</th>\n",
              "      <td>2000</td>\n",
              "      <td>1.97</td>\n",
              "      <td>Aligarh</td>\n",
              "    </tr>\n",
              "    <tr>\n",
              "      <th>4</th>\n",
              "      <td>2000</td>\n",
              "      <td>1.83</td>\n",
              "      <td>Allahabad</td>\n",
              "    </tr>\n",
              "    <tr>\n",
              "      <th>...</th>\n",
              "      <td>...</td>\n",
              "      <td>...</td>\n",
              "      <td>...</td>\n",
              "    </tr>\n",
              "    <tr>\n",
              "      <th>6711</th>\n",
              "      <td>2022</td>\n",
              "      <td>3.62</td>\n",
              "      <td>Vizianagaram</td>\n",
              "    </tr>\n",
              "    <tr>\n",
              "      <th>6712</th>\n",
              "      <td>2022</td>\n",
              "      <td>3.28</td>\n",
              "      <td>Warangal</td>\n",
              "    </tr>\n",
              "    <tr>\n",
              "      <th>6713</th>\n",
              "      <td>2022</td>\n",
              "      <td>3.33</td>\n",
              "      <td>West Godavari</td>\n",
              "    </tr>\n",
              "    <tr>\n",
              "      <th>6714</th>\n",
              "      <td>2022</td>\n",
              "      <td>2.68</td>\n",
              "      <td>West Midnapore</td>\n",
              "    </tr>\n",
              "    <tr>\n",
              "      <th>6715</th>\n",
              "      <td>2022</td>\n",
              "      <td>3.41</td>\n",
              "      <td>Yamuna Nagar</td>\n",
              "    </tr>\n",
              "  </tbody>\n",
              "</table>\n",
              "<p>6716 rows × 3 columns</p>\n",
              "</div>\n",
              "    <div class=\"colab-df-buttons\">\n",
              "\n",
              "  <div class=\"colab-df-container\">\n",
              "    <button class=\"colab-df-convert\" onclick=\"convertToInteractive('df-5907a633-ca2d-494e-ae07-59f1d76d2c40')\"\n",
              "            title=\"Convert this dataframe to an interactive table.\"\n",
              "            style=\"display:none;\">\n",
              "\n",
              "  <svg xmlns=\"http://www.w3.org/2000/svg\" height=\"24px\" viewBox=\"0 -960 960 960\">\n",
              "    <path d=\"M120-120v-720h720v720H120Zm60-500h600v-160H180v160Zm220 220h160v-160H400v160Zm0 220h160v-160H400v160ZM180-400h160v-160H180v160Zm440 0h160v-160H620v160ZM180-180h160v-160H180v160Zm440 0h160v-160H620v160Z\"/>\n",
              "  </svg>\n",
              "    </button>\n",
              "\n",
              "  <style>\n",
              "    .colab-df-container {\n",
              "      display:flex;\n",
              "      gap: 12px;\n",
              "    }\n",
              "\n",
              "    .colab-df-convert {\n",
              "      background-color: #E8F0FE;\n",
              "      border: none;\n",
              "      border-radius: 50%;\n",
              "      cursor: pointer;\n",
              "      display: none;\n",
              "      fill: #1967D2;\n",
              "      height: 32px;\n",
              "      padding: 0 0 0 0;\n",
              "      width: 32px;\n",
              "    }\n",
              "\n",
              "    .colab-df-convert:hover {\n",
              "      background-color: #E2EBFA;\n",
              "      box-shadow: 0px 1px 2px rgba(60, 64, 67, 0.3), 0px 1px 3px 1px rgba(60, 64, 67, 0.15);\n",
              "      fill: #174EA6;\n",
              "    }\n",
              "\n",
              "    .colab-df-buttons div {\n",
              "      margin-bottom: 4px;\n",
              "    }\n",
              "\n",
              "    [theme=dark] .colab-df-convert {\n",
              "      background-color: #3B4455;\n",
              "      fill: #D2E3FC;\n",
              "    }\n",
              "\n",
              "    [theme=dark] .colab-df-convert:hover {\n",
              "      background-color: #434B5C;\n",
              "      box-shadow: 0px 1px 3px 1px rgba(0, 0, 0, 0.15);\n",
              "      filter: drop-shadow(0px 1px 2px rgba(0, 0, 0, 0.3));\n",
              "      fill: #FFFFFF;\n",
              "    }\n",
              "  </style>\n",
              "\n",
              "    <script>\n",
              "      const buttonEl =\n",
              "        document.querySelector('#df-5907a633-ca2d-494e-ae07-59f1d76d2c40 button.colab-df-convert');\n",
              "      buttonEl.style.display =\n",
              "        google.colab.kernel.accessAllowed ? 'block' : 'none';\n",
              "\n",
              "      async function convertToInteractive(key) {\n",
              "        const element = document.querySelector('#df-5907a633-ca2d-494e-ae07-59f1d76d2c40');\n",
              "        const dataTable =\n",
              "          await google.colab.kernel.invokeFunction('convertToInteractive',\n",
              "                                                    [key], {});\n",
              "        if (!dataTable) return;\n",
              "\n",
              "        const docLinkHtml = 'Like what you see? Visit the ' +\n",
              "          '<a target=\"_blank\" href=https://colab.research.google.com/notebooks/data_table.ipynb>data table notebook</a>'\n",
              "          + ' to learn more about interactive tables.';\n",
              "        element.innerHTML = '';\n",
              "        dataTable['output_type'] = 'display_data';\n",
              "        await google.colab.output.renderOutput(dataTable, element);\n",
              "        const docLink = document.createElement('div');\n",
              "        docLink.innerHTML = docLinkHtml;\n",
              "        element.appendChild(docLink);\n",
              "      }\n",
              "    </script>\n",
              "  </div>\n",
              "\n",
              "\n",
              "<div id=\"df-cf174f88-e2db-4422-8432-da2cb51fc425\">\n",
              "  <button class=\"colab-df-quickchart\" onclick=\"quickchart('df-cf174f88-e2db-4422-8432-da2cb51fc425')\"\n",
              "            title=\"Suggest charts\"\n",
              "            style=\"display:none;\">\n",
              "\n",
              "<svg xmlns=\"http://www.w3.org/2000/svg\" height=\"24px\"viewBox=\"0 0 24 24\"\n",
              "     width=\"24px\">\n",
              "    <g>\n",
              "        <path d=\"M19 3H5c-1.1 0-2 .9-2 2v14c0 1.1.9 2 2 2h14c1.1 0 2-.9 2-2V5c0-1.1-.9-2-2-2zM9 17H7v-7h2v7zm4 0h-2V7h2v10zm4 0h-2v-4h2v4z\"/>\n",
              "    </g>\n",
              "</svg>\n",
              "  </button>\n",
              "\n",
              "<style>\n",
              "  .colab-df-quickchart {\n",
              "      --bg-color: #E8F0FE;\n",
              "      --fill-color: #1967D2;\n",
              "      --hover-bg-color: #E2EBFA;\n",
              "      --hover-fill-color: #174EA6;\n",
              "      --disabled-fill-color: #AAA;\n",
              "      --disabled-bg-color: #DDD;\n",
              "  }\n",
              "\n",
              "  [theme=dark] .colab-df-quickchart {\n",
              "      --bg-color: #3B4455;\n",
              "      --fill-color: #D2E3FC;\n",
              "      --hover-bg-color: #434B5C;\n",
              "      --hover-fill-color: #FFFFFF;\n",
              "      --disabled-bg-color: #3B4455;\n",
              "      --disabled-fill-color: #666;\n",
              "  }\n",
              "\n",
              "  .colab-df-quickchart {\n",
              "    background-color: var(--bg-color);\n",
              "    border: none;\n",
              "    border-radius: 50%;\n",
              "    cursor: pointer;\n",
              "    display: none;\n",
              "    fill: var(--fill-color);\n",
              "    height: 32px;\n",
              "    padding: 0;\n",
              "    width: 32px;\n",
              "  }\n",
              "\n",
              "  .colab-df-quickchart:hover {\n",
              "    background-color: var(--hover-bg-color);\n",
              "    box-shadow: 0 1px 2px rgba(60, 64, 67, 0.3), 0 1px 3px 1px rgba(60, 64, 67, 0.15);\n",
              "    fill: var(--button-hover-fill-color);\n",
              "  }\n",
              "\n",
              "  .colab-df-quickchart-complete:disabled,\n",
              "  .colab-df-quickchart-complete:disabled:hover {\n",
              "    background-color: var(--disabled-bg-color);\n",
              "    fill: var(--disabled-fill-color);\n",
              "    box-shadow: none;\n",
              "  }\n",
              "\n",
              "  .colab-df-spinner {\n",
              "    border: 2px solid var(--fill-color);\n",
              "    border-color: transparent;\n",
              "    border-bottom-color: var(--fill-color);\n",
              "    animation:\n",
              "      spin 1s steps(1) infinite;\n",
              "  }\n",
              "\n",
              "  @keyframes spin {\n",
              "    0% {\n",
              "      border-color: transparent;\n",
              "      border-bottom-color: var(--fill-color);\n",
              "      border-left-color: var(--fill-color);\n",
              "    }\n",
              "    20% {\n",
              "      border-color: transparent;\n",
              "      border-left-color: var(--fill-color);\n",
              "      border-top-color: var(--fill-color);\n",
              "    }\n",
              "    30% {\n",
              "      border-color: transparent;\n",
              "      border-left-color: var(--fill-color);\n",
              "      border-top-color: var(--fill-color);\n",
              "      border-right-color: var(--fill-color);\n",
              "    }\n",
              "    40% {\n",
              "      border-color: transparent;\n",
              "      border-right-color: var(--fill-color);\n",
              "      border-top-color: var(--fill-color);\n",
              "    }\n",
              "    60% {\n",
              "      border-color: transparent;\n",
              "      border-right-color: var(--fill-color);\n",
              "    }\n",
              "    80% {\n",
              "      border-color: transparent;\n",
              "      border-right-color: var(--fill-color);\n",
              "      border-bottom-color: var(--fill-color);\n",
              "    }\n",
              "    90% {\n",
              "      border-color: transparent;\n",
              "      border-bottom-color: var(--fill-color);\n",
              "    }\n",
              "  }\n",
              "</style>\n",
              "\n",
              "  <script>\n",
              "    async function quickchart(key) {\n",
              "      const quickchartButtonEl =\n",
              "        document.querySelector('#' + key + ' button');\n",
              "      quickchartButtonEl.disabled = true;  // To prevent multiple clicks.\n",
              "      quickchartButtonEl.classList.add('colab-df-spinner');\n",
              "      try {\n",
              "        const charts = await google.colab.kernel.invokeFunction(\n",
              "            'suggestCharts', [key], {});\n",
              "      } catch (error) {\n",
              "        console.error('Error during call to suggestCharts:', error);\n",
              "      }\n",
              "      quickchartButtonEl.classList.remove('colab-df-spinner');\n",
              "      quickchartButtonEl.classList.add('colab-df-quickchart-complete');\n",
              "    }\n",
              "    (() => {\n",
              "      let quickchartButtonEl =\n",
              "        document.querySelector('#df-cf174f88-e2db-4422-8432-da2cb51fc425 button');\n",
              "      quickchartButtonEl.style.display =\n",
              "        google.colab.kernel.accessAllowed ? 'block' : 'none';\n",
              "    })();\n",
              "  </script>\n",
              "</div>\n",
              "\n",
              "  <div id=\"id_f7018776-b68a-4882-b255-70a6fc984e53\">\n",
              "    <style>\n",
              "      .colab-df-generate {\n",
              "        background-color: #E8F0FE;\n",
              "        border: none;\n",
              "        border-radius: 50%;\n",
              "        cursor: pointer;\n",
              "        display: none;\n",
              "        fill: #1967D2;\n",
              "        height: 32px;\n",
              "        padding: 0 0 0 0;\n",
              "        width: 32px;\n",
              "      }\n",
              "\n",
              "      .colab-df-generate:hover {\n",
              "        background-color: #E2EBFA;\n",
              "        box-shadow: 0px 1px 2px rgba(60, 64, 67, 0.3), 0px 1px 3px 1px rgba(60, 64, 67, 0.15);\n",
              "        fill: #174EA6;\n",
              "      }\n",
              "\n",
              "      [theme=dark] .colab-df-generate {\n",
              "        background-color: #3B4455;\n",
              "        fill: #D2E3FC;\n",
              "      }\n",
              "\n",
              "      [theme=dark] .colab-df-generate:hover {\n",
              "        background-color: #434B5C;\n",
              "        box-shadow: 0px 1px 3px 1px rgba(0, 0, 0, 0.15);\n",
              "        filter: drop-shadow(0px 1px 2px rgba(0, 0, 0, 0.3));\n",
              "        fill: #FFFFFF;\n",
              "      }\n",
              "    </style>\n",
              "    <button class=\"colab-df-generate\" onclick=\"generateWithVariable('new_df')\"\n",
              "            title=\"Generate code using this dataframe.\"\n",
              "            style=\"display:none;\">\n",
              "\n",
              "  <svg xmlns=\"http://www.w3.org/2000/svg\" height=\"24px\"viewBox=\"0 0 24 24\"\n",
              "       width=\"24px\">\n",
              "    <path d=\"M7,19H8.4L18.45,9,17,7.55,7,17.6ZM5,21V16.75L18.45,3.32a2,2,0,0,1,2.83,0l1.4,1.43a1.91,1.91,0,0,1,.58,1.4,1.91,1.91,0,0,1-.58,1.4L9.25,21ZM18.45,9,17,7.55Zm-12,3A5.31,5.31,0,0,0,4.9,8.1,5.31,5.31,0,0,0,1,6.5,5.31,5.31,0,0,0,4.9,4.9,5.31,5.31,0,0,0,6.5,1,5.31,5.31,0,0,0,8.1,4.9,5.31,5.31,0,0,0,12,6.5,5.46,5.46,0,0,0,6.5,12Z\"/>\n",
              "  </svg>\n",
              "    </button>\n",
              "    <script>\n",
              "      (() => {\n",
              "      const buttonEl =\n",
              "        document.querySelector('#id_f7018776-b68a-4882-b255-70a6fc984e53 button.colab-df-generate');\n",
              "      buttonEl.style.display =\n",
              "        google.colab.kernel.accessAllowed ? 'block' : 'none';\n",
              "\n",
              "      buttonEl.onclick = () => {\n",
              "        google.colab.notebook.generateWithVariable('new_df');\n",
              "      }\n",
              "      })();\n",
              "    </script>\n",
              "  </div>\n",
              "\n",
              "    </div>\n",
              "  </div>\n"
            ],
            "application/vnd.google.colaboratory.intrinsic+json": {
              "type": "dataframe",
              "variable_name": "new_df",
              "summary": "{\n  \"name\": \"new_df\",\n  \"rows\": 6716,\n  \"fields\": [\n    {\n      \"column\": \"Year\",\n      \"properties\": {\n        \"dtype\": \"number\",\n        \"std\": 6,\n        \"min\": 2000,\n        \"max\": 2022,\n        \"num_unique_values\": 23,\n        \"samples\": [\n          2015,\n          2009,\n          2000\n        ],\n        \"semantic_type\": \"\",\n        \"description\": \"\"\n      }\n    },\n    {\n      \"column\": \"Yield\",\n      \"properties\": {\n        \"dtype\": \"number\",\n        \"std\": 1.041468936304793,\n        \"min\": 0.05,\n        \"max\": 15.73,\n        \"num_unique_values\": 529,\n        \"samples\": [\n          2.24,\n          4.25,\n          2.47\n        ],\n        \"semantic_type\": \"\",\n        \"description\": \"\"\n      }\n    },\n    {\n      \"column\": \"District\",\n      \"properties\": {\n        \"dtype\": \"category\",\n        \"num_unique_values\": 292,\n        \"samples\": [\n          \"Ghaziabad\",\n          \"Thanjavur\",\n          \"Chitradurga\"\n        ],\n        \"semantic_type\": \"\",\n        \"description\": \"\"\n      }\n    }\n  ]\n}"
            }
          },
          "metadata": {},
          "execution_count": 27
        }
      ]
    },
    {
      "cell_type": "code",
      "source": [
        "sowing = pd.read_csv('/content/filtered_district_monthly_sowingmonth.csv')"
      ],
      "metadata": {
        "id": "AQtC86-9OfJA"
      },
      "execution_count": null,
      "outputs": []
    },
    {
      "cell_type": "code",
      "source": [
        "sowing['SowingMonth'].value_counts()"
      ],
      "metadata": {
        "colab": {
          "base_uri": "https://localhost:8080/",
          "height": 241
        },
        "id": "aBbNiUwHUjLe",
        "outputId": "ba453f1b-d3d1-473e-deee-ba11f42f7671"
      },
      "execution_count": null,
      "outputs": [
        {
          "output_type": "execute_result",
          "data": {
            "text/plain": [
              "SowingMonth\n",
              "6    158\n",
              "5     84\n",
              "4     26\n",
              "3     24\n",
              "Name: count, dtype: int64"
            ],
            "text/html": [
              "<div>\n",
              "<style scoped>\n",
              "    .dataframe tbody tr th:only-of-type {\n",
              "        vertical-align: middle;\n",
              "    }\n",
              "\n",
              "    .dataframe tbody tr th {\n",
              "        vertical-align: top;\n",
              "    }\n",
              "\n",
              "    .dataframe thead th {\n",
              "        text-align: right;\n",
              "    }\n",
              "</style>\n",
              "<table border=\"1\" class=\"dataframe\">\n",
              "  <thead>\n",
              "    <tr style=\"text-align: right;\">\n",
              "      <th></th>\n",
              "      <th>count</th>\n",
              "    </tr>\n",
              "    <tr>\n",
              "      <th>SowingMonth</th>\n",
              "      <th></th>\n",
              "    </tr>\n",
              "  </thead>\n",
              "  <tbody>\n",
              "    <tr>\n",
              "      <th>6</th>\n",
              "      <td>158</td>\n",
              "    </tr>\n",
              "    <tr>\n",
              "      <th>5</th>\n",
              "      <td>84</td>\n",
              "    </tr>\n",
              "    <tr>\n",
              "      <th>4</th>\n",
              "      <td>26</td>\n",
              "    </tr>\n",
              "    <tr>\n",
              "      <th>3</th>\n",
              "      <td>24</td>\n",
              "    </tr>\n",
              "  </tbody>\n",
              "</table>\n",
              "</div><br><label><b>dtype:</b> int64</label>"
            ]
          },
          "metadata": {},
          "execution_count": 29
        }
      ]
    },
    {
      "cell_type": "code",
      "source": [
        "import pandas as pd\n",
        "\n",
        "# Load the datasets\n",
        "evi_df = pd.read_csv('/content/Final_avg_dist_EVI.csv')\n",
        "sowing = pd.read_csv('/content/filtered_district_monthly_sowingmonth.csv')\n",
        "\n",
        "# Ensure district names are consistent (optional: handle case sensitivity or whitespace)\n",
        "evi_df.columns = evi_df.columns.str.strip()\n",
        "sowing['District'] = sowing['District'].str.strip()\n",
        "\n",
        "# Get list of districts from EVI data (excluding 'year' and 'month')\n",
        "districts = [col for col in evi_df.columns if col not in ['year', 'month']]\n",
        "\n",
        "# Initialize an empty list to store results\n",
        "results = []\n",
        "\n",
        "# Process each year\n",
        "for year in evi_df['year'].unique():\n",
        "    # Process each district\n",
        "    for district in districts:\n",
        "        # Get the sowing month for the district\n",
        "        sowing_month = sowing[sowing['District'] == district]['SowingMonth'].iloc[0]\n",
        "\n",
        "        # Define the four months (sowing month and next three)\n",
        "        months = [(sowing_month + i - 1) % 12 + 1 for i in range(4)]\n",
        "        # Handle month wrapping (e.g., if sowing_month=11, months=[11,12,1,2])\n",
        "        month_indices = []\n",
        "        for m in months:\n",
        "            if m < sowing_month:\n",
        "                # If month wraps to next year, we need to handle it\n",
        "                # For simplicity, assume EVI data has consecutive years\n",
        "                month_indices.append(m)\n",
        "            else:\n",
        "                month_indices.append(m)\n",
        "\n",
        "        # Filter EVI data for the specific year and months\n",
        "        year_data = evi_df[evi_df['year'] == year]\n",
        "        evi_values = []\n",
        "        for m in month_indices:\n",
        "            month_data = year_data[year_data['month'] == m]\n",
        "            if not month_data.empty:\n",
        "                evi_values.append(month_data[district].iloc[0])\n",
        "            else:\n",
        "                evi_values.append(None)  # Handle missing data\n",
        "\n",
        "        # Create a row for the result\n",
        "        row = {\n",
        "            'District': district,\n",
        "            'evi_1': evi_values[0],\n",
        "            'evi_2': evi_values[1],\n",
        "            'evi_3': evi_values[2],\n",
        "            'evi_4': evi_values[3],\n",
        "            'year': year\n",
        "        }\n",
        "        results.append(row)\n",
        "\n",
        "# Create the final DataFrame\n",
        "result_df = pd.DataFrame(results)\n",
        "\n",
        "# Save the DataFrame to a CSV file (optional)\n",
        "result_df.to_csv('/content/sowing_month_evi_df.csv', index=False)"
      ],
      "metadata": {
        "id": "X0xW5RQZUoCU"
      },
      "execution_count": null,
      "outputs": []
    },
    {
      "cell_type": "code",
      "source": [
        "# prompt: write the code to make a predictor folder in colab\n",
        "\n",
        "import os\n",
        "\n",
        "# Create the predictor folder if it doesn't exist\n",
        "predictor_folder = '/content/predictor'\n",
        "if not os.path.exists(predictor_folder):\n",
        "    os.makedirs(predictor_folder)\n",
        "    print(f\"Folder '{predictor_folder}' created successfully.\")\n",
        "else:\n",
        "    print(f\"Folder '{predictor_folder}' already exists.\")\n"
      ],
      "metadata": {
        "colab": {
          "base_uri": "https://localhost:8080/"
        },
        "id": "Zh8CpNfvsU9M",
        "outputId": "5410e3a8-e3f1-4ee2-e2d7-c73385907993"
      },
      "execution_count": null,
      "outputs": [
        {
          "output_type": "stream",
          "name": "stdout",
          "text": [
            "Folder '/content/predictor' created successfully.\n"
          ]
        }
      ]
    },
    {
      "cell_type": "code",
      "source": [
        "import pandas as pd\n",
        "import os\n",
        "\n",
        "# Path to the predictor folder\n",
        "predictor_folder = '/content/predictor'\n",
        "\n",
        "# Load the sowing month data\n",
        "sowing = pd.read_csv('/content/filtered_district_monthly_sowingmonth.csv')\n",
        "sowing['District'] = sowing['District'].str.strip()\n",
        "\n",
        "# Get list of CSV files in the predictor folder\n",
        "csv_files = [f for f in os.listdir(predictor_folder) if f.endswith('.csv')]\n",
        "\n",
        "# Process each CSV file\n",
        "for file_name in csv_files:\n",
        "    # Load the dataset\n",
        "    file_path = os.path.join(predictor_folder, file_name)\n",
        "    df = pd.read_csv(file_path)\n",
        "\n",
        "    # Ensure district names are consistent\n",
        "    df.columns = df.columns.str.strip()\n",
        "\n",
        "    # Get list of districts (excluding 'year' and 'month')\n",
        "    districts = [col for col in df.columns if col not in ['year', 'month']]\n",
        "\n",
        "    # Extract variable name from file name (e.g., 'EVI' from 'Final_avg_dist_EVI.csv')\n",
        "    variable = file_name.split('_')[-1].replace('.csv', '').lower()\n",
        "\n",
        "    # Initialize an empty list to store results\n",
        "    results = []\n",
        "\n",
        "    # Process each year\n",
        "    for year in df['year'].unique():\n",
        "        # Process each district\n",
        "        for district in districts:\n",
        "            # Get the sowing month for the district\n",
        "            sowing_month = sowing[sowing['District'] == district]['SowingMonth'].iloc[0]\n",
        "\n",
        "            # Define the four months (sowing month and next three)\n",
        "            months = [(sowing_month + i - 1) % 12 + 1 for i in range(4)]\n",
        "            month_indices = []\n",
        "            for m in months:\n",
        "                if m < sowing_month:\n",
        "                    month_indices.append(m)\n",
        "                else:\n",
        "                    month_indices.append(m)\n",
        "\n",
        "            # Filter data for the specific year and months\n",
        "            year_data = df[df['year'] == year]\n",
        "            values = []\n",
        "            for m in month_indices:\n",
        "                month_data = year_data[year_data['month'] == m]\n",
        "                if not month_data.empty:\n",
        "                    values.append(month_data[district].iloc[0])\n",
        "                else:\n",
        "                    values.append(None)  # Handle missing data\n",
        "\n",
        "            # Create a row for the result\n",
        "            row = {\n",
        "                'District': district,\n",
        "                f'{variable}_1': values[0],\n",
        "                f'{variable}_2': values[1],\n",
        "                f'{variable}_3': values[2],\n",
        "                f'{variable}_4': values[3],\n",
        "                'year': year\n",
        "            }\n",
        "            results.append(row)\n",
        "\n",
        "    # Create the final DataFrame\n",
        "    result_df = pd.DataFrame(results)\n",
        "\n",
        "    # Save the DataFrame to a CSV file\n",
        "    output_file = f'/content/sowing_month_{variable}_df.csv'\n",
        "    result_df.to_csv(output_file, index=False)"
      ],
      "metadata": {
        "id": "t3aba7XXiqPE"
      },
      "execution_count": null,
      "outputs": []
    },
    {
      "cell_type": "markdown",
      "source": [
        "# detrending"
      ],
      "metadata": {
        "id": "txjbwNasPNDN"
      }
    },
    {
      "cell_type": "code",
      "source": [
        "import pandas as pd\n",
        "import numpy as np\n",
        "\n",
        "# Load the data\n",
        "df = pd.read_csv('/content/rice_district_yield.csv')\n",
        "df.fillna(1.48, inplace = True) # fill null value of patna with mean()\n",
        "# Create an empty DataFrame to store the detrended yields and trends\n",
        "detrended_df = pd.DataFrame()\n",
        "\n",
        "# Function to calculate Sen's slope, detrend, and save the trend\n",
        "def detrend_sens_slope(df):\n",
        "    x = np.arange(len(df))  # Time variable (0, 1, 2, ..., 51 for 52 years)\n",
        "    y = df['Yield'].values\n",
        "\n",
        "    # Calculate the Sen's slope\n",
        "    slopes = []\n",
        "    for i in range(len(y)):\n",
        "        for j in range(i + 1, len(y)):\n",
        "            slopes.append((y[j] - y[i]) / (x[j] - x[i]))\n",
        "    slope = np.median(slopes)\n",
        "\n",
        "    # Calculate the trend (slope * time)\n",
        "    df['Trend'] = slope * x\n",
        "\n",
        "    # Detrend the yield data by subtracting the trend from the original yield\n",
        "    df['Detrended_Yield'] = df['Yield'] - df['Trend']\n",
        "\n",
        "    return df\n",
        "\n",
        "# Apply detrending and trend calculation for each district\n",
        "for district in df['District'].unique():\n",
        "    df_district = df[df['District'] == district].copy()\n",
        "    df_district = detrend_sens_slope(df_district)\n",
        "    detrended_df = pd.concat([detrended_df, df_district], ignore_index=True)\n",
        "\n",
        "# Save the updated DataFrame with the detrended yield and trend\n",
        "detrended_df.to_csv('/content/detrended_rice_district_yield.csv', index=False)\n",
        "\n",
        "# Display the first few rows of the updated DataFrame\n",
        "print(detrended_df.head())\n"
      ],
      "metadata": {
        "colab": {
          "base_uri": "https://localhost:8080/"
        },
        "id": "PJ6kA93oO5hG",
        "outputId": "64b8691c-1ea8-452a-bfe5-ed219a62e243"
      },
      "execution_count": null,
      "outputs": [
        {
          "output_type": "stream",
          "name": "stdout",
          "text": [
            "   Year  Yield  District   Trend  Detrended_Yield\n",
            "0  2000   2.07  Adilabad  0.0000           2.0700\n",
            "1  2001   2.23  Adilabad  0.0535           2.1765\n",
            "2  2002   1.54  Adilabad  0.1070           1.4330\n",
            "3  2003   2.47  Adilabad  0.1605           2.3095\n",
            "4  2004   1.52  Adilabad  0.2140           1.3060\n"
          ]
        }
      ]
    },
    {
      "cell_type": "code",
      "source": [
        "# Load the data\n",
        "df = pd.read_csv('/content/rice_district_yield.csv')\n",
        "df.isnull().sum()\n",
        "df.fillna(1.48, inplace = True)\n"
      ],
      "metadata": {
        "id": "efIT4NjaQofm"
      },
      "execution_count": null,
      "outputs": []
    },
    {
      "cell_type": "code",
      "source": [
        "detrended_df.isnull().sum()"
      ],
      "metadata": {
        "colab": {
          "base_uri": "https://localhost:8080/",
          "height": 241
        },
        "id": "6fbxa0G2SNjZ",
        "outputId": "1a1bed51-d8d8-4a34-d57e-472ea21725bb"
      },
      "execution_count": null,
      "outputs": [
        {
          "output_type": "execute_result",
          "data": {
            "text/plain": [
              "Year               0\n",
              "Yield              0\n",
              "District           0\n",
              "Trend              0\n",
              "Detrended_Yield    0\n",
              "dtype: int64"
            ],
            "text/html": [
              "<div>\n",
              "<style scoped>\n",
              "    .dataframe tbody tr th:only-of-type {\n",
              "        vertical-align: middle;\n",
              "    }\n",
              "\n",
              "    .dataframe tbody tr th {\n",
              "        vertical-align: top;\n",
              "    }\n",
              "\n",
              "    .dataframe thead th {\n",
              "        text-align: right;\n",
              "    }\n",
              "</style>\n",
              "<table border=\"1\" class=\"dataframe\">\n",
              "  <thead>\n",
              "    <tr style=\"text-align: right;\">\n",
              "      <th></th>\n",
              "      <th>0</th>\n",
              "    </tr>\n",
              "  </thead>\n",
              "  <tbody>\n",
              "    <tr>\n",
              "      <th>Year</th>\n",
              "      <td>0</td>\n",
              "    </tr>\n",
              "    <tr>\n",
              "      <th>Yield</th>\n",
              "      <td>0</td>\n",
              "    </tr>\n",
              "    <tr>\n",
              "      <th>District</th>\n",
              "      <td>0</td>\n",
              "    </tr>\n",
              "    <tr>\n",
              "      <th>Trend</th>\n",
              "      <td>0</td>\n",
              "    </tr>\n",
              "    <tr>\n",
              "      <th>Detrended_Yield</th>\n",
              "      <td>0</td>\n",
              "    </tr>\n",
              "  </tbody>\n",
              "</table>\n",
              "</div><br><label><b>dtype:</b> int64</label>"
            ]
          },
          "metadata": {},
          "execution_count": 20
        }
      ]
    },
    {
      "cell_type": "code",
      "source": [
        "# prompt: row numbe where null is present\n",
        "# # Load the data\n",
        "# df = pd.read_csv('/content/rice_district_yield.csv')\n",
        "# df.isnull().sum()\n",
        "\n",
        "import pandas as pd\n",
        "\n",
        "# Load the data\n",
        "df = pd.read_csv('/content/rice_district_yield.csv')\n",
        "\n",
        "# Find rows with null values in any column\n",
        "null_rows = df[df.isnull().any(axis=1)]\n",
        "\n",
        "# Print the row numbers where null values are present\n",
        "if not null_rows.empty:\n",
        "    print(\"Row numbers with null values:\")\n",
        "    print(null_rows.index)\n",
        "else:\n",
        "    print(\"No null values found in the DataFrame.\")\n"
      ],
      "metadata": {
        "colab": {
          "base_uri": "https://localhost:8080/"
        },
        "id": "uabpL2o5RSNa",
        "outputId": "0e5c61c0-29c9-43cb-f315-65eb8166ab17"
      },
      "execution_count": null,
      "outputs": [
        {
          "output_type": "stream",
          "name": "stdout",
          "text": [
            "Row numbers with null values:\n",
            "Index([6332], dtype='int64')\n"
          ]
        }
      ]
    },
    {
      "cell_type": "code",
      "source": [
        "# prompt: /content/trend__detrent_Actual_col.csv\n",
        "# plot the yearly average of 'F_Detrended_Yield'  vS the actual\n",
        "\n",
        "import pandas as pd\n",
        "import matplotlib.pyplot as plt\n",
        "\n",
        "# Load the detrended data\n",
        "df = pd.read_csv('/content/trend__detrent_Actual_col.csv')\n",
        "\n",
        "# Group by year and calculate the yearly average of 'Detrended_Yield'\n",
        "yearly_avg_1 = df.groupby('Year')['F_Detrended_Yield'].mean()\n",
        "yearly_avg_2 = df.groupby('Year')['S_Detrended_Yield'].mean()\n",
        "\n",
        "# Load the original yield data\n",
        "\n",
        "actual_yearly_avg = df.groupby('Year')['Actual'].mean()\n",
        "\n",
        "# Create the plot\n",
        "plt.figure(figsize=(10, 6))\n",
        "plt.plot(yearly_avg_1.index, yearly_avg_1.values, label='Yearly Average of Detrended Yield Femin')\n",
        "plt.plot(actual_yearly_avg.index, actual_yearly_avg.values, label='Yearly Average of Actual Yield')\n",
        "plt.plot(yearly_avg_2.index, yearly_avg_2.values, label='Yearly Average of Detrended Yield Shreyansh')\n",
        "\n",
        "plt.xlabel('Year')\n",
        "plt.ylabel('Yield')\n",
        "plt.title('Yearly Average of Detrended Yield vs. Actual Yield')\n",
        "plt.legend()\n",
        "plt.grid(True)\n",
        "plt.show()\n"
      ],
      "metadata": {
        "colab": {
          "base_uri": "https://localhost:8080/",
          "height": 564
        },
        "id": "xIRJ1AQgGUci",
        "outputId": "036ab52d-bb9b-460b-84e4-3793db118b38"
      },
      "execution_count": null,
      "outputs": [
        {
          "output_type": "display_data",
          "data": {
            "text/plain": [
              "<Figure size 1000x600 with 1 Axes>"
            ],
            "image/png": "[encoded data removed]"
          },
          "metadata": {}
        }
      ]
    },
    {
      "cell_type": "code",
      "source": [
        "# CSV\n",
        "df = pd.read_csv('/content/trend__detrent_Actual_col.csv')\n",
        "print(\"CSV Detrended_Yield Mean Femin:\", df['F_Detrended_Yield'].mean())\n",
        "print(\"CSV Detrended_Yield Std Femin :\", df['F_Detrended_Yield'].std())\n",
        "print(\"CSV Detrended_Yield Mean Shreyansh:\", df['S_Detrended_Yield'].mean())\n",
        "print(\"CSV Detrended_Yield Std Shreyansh:\", df['S_Detrended_Yield'].std())"
      ],
      "metadata": {
        "colab": {
          "base_uri": "https://localhost:8080/"
        },
        "id": "TNhoPEfhRFSn",
        "outputId": "b2ee38a3-9a92-4e03-b4d4-018ae350748b"
      },
      "execution_count": null,
      "outputs": [
        {
          "output_type": "stream",
          "name": "stdout",
          "text": [
            "CSV Detrended_Yield Mean Femin: -2.184527458006931e-14\n",
            "CSV Detrended_Yield Std Femin : 0.4244743279763956\n",
            "CSV Detrended_Yield Mean Shreyansh: 1.913261736981593\n",
            "CSV Detrended_Yield Std Shreyansh: 1.0534788232436991\n"
          ]
        }
      ]
    },
    {
      "cell_type": "code",
      "source": [
        "import pandas as pd\n",
        "\n",
        "# Load the CSV file\n",
        "df = pd.read_csv('/content/trend__detrent_Actual_col.csv')\n",
        "\n",
        "# Print overall statistics for Femin's detrended yield\n",
        "print(\"CSV Detrended_Yield Mean Femin:\", df['F_Detrended_Yield'].mean())\n",
        "print(\"CSV Detrended_Yield Std Femin:\", df['F_Detrended_Yield'].std())\n",
        "\n",
        "# Print overall statistics for Shreyansh's detrended yield\n",
        "print(\"CSV Detrended_Yield Mean Shreyansh:\", df['S_Detrended_Yield'].mean())\n",
        "print(\"CSV Detrended_Yield Std Shreyansh:\", df['S_Detrended_Yield'].std())\n",
        "\n",
        "# Calculate yearly averages for Femin's detrended yield\n",
        "yearly_avg_femin = df.groupby('Year')['F_Detrended_Yield'].mean()\n",
        "print(\"\\nYearly Averages of F_Detrended_Yield (Femin):\")\n",
        "print(yearly_avg_femin)\n",
        "\n",
        "# Calculate yearly averages for Shreyansh's detrended yield\n",
        "yearly_avg_shreyansh = df.groupby('Year')['S_Detrended_Yield'].mean()\n",
        "print(\"\\nYearly Averages of S_Detrended_Yield (Shreyansh):\")\n",
        "print(yearly_avg_shreyansh)\n",
        "\n",
        "# Check if yearly averages are centered around 0\n",
        "print(\"\\nMax Absolute Yearly Average (Femin):\", yearly_avg_femin.abs().max())\n",
        "print(\"Max Absolute Yearly Average (Shreyansh):\", yearly_avg_shreyansh.abs().max())\n",
        "if yearly_avg_femin.abs().max() > 0.1:\n",
        "    print(\"Warning: Femin's yearly averages of Detrended_Yield are not centered around 0. Trend may not be fully removed.\")\n",
        "else:\n",
        "    print(\"Femin's yearly averages of Detrended_Yield are centered around 0, indicating proper trend removal.\")\n",
        "if yearly_avg_shreyansh.abs().max() > 0.1:\n",
        "    print(\"Warning: Shreyansh's yearly averages of Detrended_Yield are not centered around 0. Trend may not be fully removed.\")\n",
        "else:\n",
        "    print(\"Shreyansh's yearly averages of Detrended_Yield are centered around 0, indicating proper trend removal.\")"
      ],
      "metadata": {
        "colab": {
          "base_uri": "https://localhost:8080/"
        },
        "id": "9dRDj3DuyhcJ",
        "outputId": "a23dda1e-0676-4974-ab39-db667a9f174d"
      },
      "execution_count": null,
      "outputs": [
        {
          "output_type": "stream",
          "name": "stdout",
          "text": [
            "CSV Detrended_Yield Mean Femin: -2.184527458006931e-14\n",
            "CSV Detrended_Yield Std Femin: 0.4244743279763956\n",
            "CSV Detrended_Yield Mean Shreyansh: 1.913261736981593\n",
            "CSV Detrended_Yield Std Shreyansh: 1.0534788232436991\n",
            "\n",
            "Yearly Averages of F_Detrended_Yield (Femin):\n",
            "Year\n",
            "2000    0.056158\n",
            "2001    0.196327\n",
            "2002   -0.155182\n",
            "2003    0.102473\n",
            "2004   -0.053865\n",
            "2005   -0.029231\n",
            "2006   -0.018651\n",
            "2007    0.010179\n",
            "2008   -0.004923\n",
            "2009   -0.154269\n",
            "2010   -0.133490\n",
            "2011    0.012604\n",
            "2012    0.049142\n",
            "2013    0.093661\n",
            "2014    0.086364\n",
            "2015   -0.174358\n",
            "2016   -0.022374\n",
            "2017    0.007658\n",
            "2018   -0.046763\n",
            "2019    0.067379\n",
            "2020    0.142582\n",
            "2021   -0.060881\n",
            "2022    0.029460\n",
            "Name: F_Detrended_Yield, dtype: float64\n",
            "\n",
            "Yearly Averages of S_Detrended_Yield (Shreyansh):\n",
            "Year\n",
            "2000    1.964452\n",
            "2001    2.105072\n",
            "2002    1.754014\n",
            "2003    2.012120\n",
            "2004    1.856233\n",
            "2005    1.881318\n",
            "2006    1.892349\n",
            "2007    1.921631\n",
            "2008    1.906979\n",
            "2009    1.758085\n",
            "2010    1.779315\n",
            "2011    1.925860\n",
            "2012    1.962849\n",
            "2013    2.007818\n",
            "2014    2.000973\n",
            "2015    1.740702\n",
            "2016    1.893137\n",
            "2017    1.923620\n",
            "2018    1.869651\n",
            "2019    1.984243\n",
            "2020    2.059897\n",
            "2021    1.857024\n",
            "2022    1.947678\n",
            "Name: S_Detrended_Yield, dtype: float64\n",
            "\n",
            "Max Absolute Yearly Average (Femin): 0.1963270502616897\n",
            "Max Absolute Yearly Average (Shreyansh): 2.1050719164041825\n",
            "Warning: Femin's yearly averages of Detrended_Yield are not centered around 0. Trend may not be fully removed.\n",
            "Warning: Shreyansh's yearly averages of Detrended_Yield are not centered around 0. Trend may not be fully removed.\n"
          ]
        }
      ]
    },
    {
      "cell_type": "code",
      "source": [
        "import pandas as pd\n",
        "import matplotlib.pyplot as plt\n",
        "\n",
        "# Load the detrended data\n",
        "df = pd.read_csv('/content/trend__detrent_Actual_col.csv')\n",
        "\n",
        "# Group by year and calculate the yearly averages\n",
        "yearly_avg_actual = df.groupby('Year')['Actual'].mean()\n",
        "yearly_avg_f_trend = df.groupby('Year')['F_Trend'].mean()\n",
        "yearly_avg_s_trend = df.groupby('Year')['S_Trend'].mean()\n",
        "yearly_avg_f_detrended = df.groupby('Year')['F_Detrended_Yield'].mean()\n",
        "yearly_avg_s_detrended = df.groupby('Year')['S_Detrended_Yield'].mean()\n",
        "\n",
        "# Center the detrended yields for visualization (optional, to match earlier plots)\n",
        "yearly_avg_f_detrended_vis = yearly_avg_f_detrended\n",
        "yearly_avg_s_detrended_vis = yearly_avg_s_detrended\n",
        "\n",
        "# Create the plot\n",
        "plt.figure(figsize=(12, 6))\n",
        "plt.plot(yearly_avg_actual.index, yearly_avg_actual.values, label='Yearly Average of Actual Yield', color='orange', marker='o')\n",
        "plt.plot(yearly_avg_f_trend.index, yearly_avg_f_trend.values, label='Yearly Average of F_Trend (Linear)', color='blue', marker='o')\n",
        "plt.plot(yearly_avg_s_trend.index, yearly_avg_s_trend.values, label='Yearly Average of S_Trend (Sen\\'s Slope)', color='green', marker='x')\n",
        "plt.plot(yearly_avg_f_detrended_vis.index, yearly_avg_f_detrended_vis.values, label='Yearly Average of F_Detrended_Yield (Linear)', color='cyan', marker='^')\n",
        "plt.plot(yearly_avg_s_detrended_vis.index, yearly_avg_s_detrended_vis.values, label='Yearly Average of S_Detrended_Yield (Sen\\'s Slope)', color='magenta', marker='s')\n",
        "\n",
        "plt.xlabel('Year')\n",
        "plt.ylabel('Yield')\n",
        "plt.title('Yearly Average of Trends and Detrended Yields vs. Actual Yield')\n",
        "plt.legend()\n",
        "plt.grid(True)\n",
        "plt.show()\n",
        "\n",
        "print(\"Plot has been saved as '/content/yearly_avg_trends_and_detrended_vs_actual.png'. Please check the file.\")"
      ],
      "metadata": {
        "colab": {
          "base_uri": "https://localhost:8080/",
          "height": 581
        },
        "id": "1yKFVDbU6-if",
        "outputId": "dda0a5f9-eaab-4f19-c6b5-1d5cbe89ee15"
      },
      "execution_count": null,
      "outputs": [
        {
          "output_type": "display_data",
          "data": {
            "text/plain": [
              "<Figure size 1200x600 with 1 Axes>"
            ],
            "image/png": "[encoded data removed]"
          },
          "metadata": {}
        },
        {
          "output_type": "stream",
          "name": "stdout",
          "text": [
            "Plot has been saved as '/content/yearly_avg_trends_and_detrended_vs_actual.png'. Please check the file.\n"
          ]
        }
      ]
    }
  ]
}